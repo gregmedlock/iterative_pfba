{
 "cells": [
  {
   "cell_type": "code",
   "execution_count": 1,
   "metadata": {},
   "outputs": [],
   "source": [
    "import cobra\n",
    "from cobra.test import create_test_model"
   ]
  },
  {
   "cell_type": "code",
   "execution_count": 2,
   "metadata": {},
   "outputs": [],
   "source": [
    "model = create_test_model() # if no argument is provided to this function, it loads a model for Salmonella enterica"
   ]
  },
  {
   "cell_type": "code",
   "execution_count": 3,
   "metadata": {},
   "outputs": [
    {
     "data": {
      "text/html": [
       "\n",
       "        <table>\n",
       "            <tr>\n",
       "                <td><strong>Name</strong></td>\n",
       "                <td>Salmonella_consensus_build_1</td>\n",
       "            </tr><tr>\n",
       "                <td><strong>Memory address</strong></td>\n",
       "                <td>0x011f66b898</td>\n",
       "            </tr><tr>\n",
       "                <td><strong>Number of metabolites</strong></td>\n",
       "                <td>1802</td>\n",
       "            </tr><tr>\n",
       "                <td><strong>Number of reactions</strong></td>\n",
       "                <td>2546</td>\n",
       "            </tr><tr>\n",
       "                <td><strong>Number of groups</strong></td>\n",
       "                <td>0</td>\n",
       "            </tr><tr>\n",
       "                <td><strong>Objective expression</strong></td>\n",
       "                <td>0.0 + 1.0*biomass_iRR1083_metals - 1.0*biomass_iRR1083_metals_reverse_00f08</td>\n",
       "            </tr><tr>\n",
       "                <td><strong>Compartments</strong></td>\n",
       "                <td>Cytoplasm, Periplasm, Extracellular</td>\n",
       "            </tr>\n",
       "          </table>"
      ],
      "text/plain": [
       "<Model Salmonella_consensus_build_1 at 0x11f66b898>"
      ]
     },
     "execution_count": 3,
     "metadata": {},
     "output_type": "execute_result"
    }
   ],
   "source": [
    "model"
   ]
  },
  {
   "cell_type": "code",
   "execution_count": 4,
   "metadata": {},
   "outputs": [
    {
     "name": "stdout",
     "output_type": "stream",
     "text": [
      "0.0 + 1.0*biomass_iRR1083_metals - 1.0*biomass_iRR1083_metals_reverse_00f08\n",
      "max\n"
     ]
    }
   ],
   "source": [
    "print(model.objective.expression)\n",
    "print(model.objective.direction) # The objective function can be either minimized or maximized; this tells us what it's set as"
   ]
  },
  {
   "cell_type": "markdown",
   "metadata": {},
   "source": [
    "## Flux Balance Analysis\n",
    "Without any additional changes to the model, the optimization problem is flux balance analysis.\n",
    "If we optimize the model, we solve for the maximum obtainable flux through biomass given the current constraints."
   ]
  },
  {
   "cell_type": "code",
   "execution_count": 5,
   "metadata": {},
   "outputs": [
    {
     "data": {
      "text/html": [
       "<strong><em>Optimal</em> solution with objective value 0.380</strong><br><div>\n",
       "<style scoped>\n",
       "    .dataframe tbody tr th:only-of-type {\n",
       "        vertical-align: middle;\n",
       "    }\n",
       "\n",
       "    .dataframe tbody tr th {\n",
       "        vertical-align: top;\n",
       "    }\n",
       "\n",
       "    .dataframe thead th {\n",
       "        text-align: right;\n",
       "    }\n",
       "</style>\n",
       "<table border=\"1\" class=\"dataframe\">\n",
       "  <thead>\n",
       "    <tr style=\"text-align: right;\">\n",
       "      <th></th>\n",
       "      <th>fluxes</th>\n",
       "      <th>reduced_costs</th>\n",
       "    </tr>\n",
       "  </thead>\n",
       "  <tbody>\n",
       "    <tr>\n",
       "      <td>12DGR120tipp</td>\n",
       "      <td>0.000000e+00</td>\n",
       "      <td>0.000000e+00</td>\n",
       "    </tr>\n",
       "    <tr>\n",
       "      <td>12DGR140tipp</td>\n",
       "      <td>0.000000e+00</td>\n",
       "      <td>8.498311e-13</td>\n",
       "    </tr>\n",
       "    <tr>\n",
       "      <td>12DGR141tipp</td>\n",
       "      <td>-6.057687e-19</td>\n",
       "      <td>0.000000e+00</td>\n",
       "    </tr>\n",
       "    <tr>\n",
       "      <td>12DGR160tipp</td>\n",
       "      <td>0.000000e+00</td>\n",
       "      <td>-2.677502e-11</td>\n",
       "    </tr>\n",
       "    <tr>\n",
       "      <td>12DGR161tipp</td>\n",
       "      <td>0.000000e+00</td>\n",
       "      <td>1.076727e-16</td>\n",
       "    </tr>\n",
       "    <tr>\n",
       "      <td>...</td>\n",
       "      <td>...</td>\n",
       "      <td>...</td>\n",
       "    </tr>\n",
       "    <tr>\n",
       "      <td>EX_guln__L_e</td>\n",
       "      <td>0.000000e+00</td>\n",
       "      <td>0.000000e+00</td>\n",
       "    </tr>\n",
       "    <tr>\n",
       "      <td>EX_udcpo5_e</td>\n",
       "      <td>0.000000e+00</td>\n",
       "      <td>0.000000e+00</td>\n",
       "    </tr>\n",
       "    <tr>\n",
       "      <td>EX_4hthr_e</td>\n",
       "      <td>0.000000e+00</td>\n",
       "      <td>0.000000e+00</td>\n",
       "    </tr>\n",
       "    <tr>\n",
       "      <td>EX_salchs2_e</td>\n",
       "      <td>0.000000e+00</td>\n",
       "      <td>0.000000e+00</td>\n",
       "    </tr>\n",
       "    <tr>\n",
       "      <td>EX_tton_e</td>\n",
       "      <td>0.000000e+00</td>\n",
       "      <td>0.000000e+00</td>\n",
       "    </tr>\n",
       "  </tbody>\n",
       "</table>\n",
       "<p>2546 rows × 2 columns</p>\n",
       "</div>"
      ],
      "text/plain": [
       "<Solution 0.380 at 0x11f686cf8>"
      ]
     },
     "execution_count": 5,
     "metadata": {},
     "output_type": "execute_result"
    }
   ],
   "source": [
    "model.optimize()"
   ]
  },
  {
   "cell_type": "markdown",
   "metadata": {},
   "source": [
    "You can explore the solution further by assigning the output of `model.optimize()` to a variable"
   ]
  },
  {
   "cell_type": "code",
   "execution_count": 6,
   "metadata": {},
   "outputs": [
    {
     "data": {
      "text/plain": [
       "12DGR120tipp    0.000000e+00\n",
       "12DGR140tipp    0.000000e+00\n",
       "12DGR141tipp   -6.057687e-19\n",
       "12DGR160tipp    0.000000e+00\n",
       "12DGR161tipp    0.000000e+00\n",
       "                    ...     \n",
       "EX_guln__L_e    0.000000e+00\n",
       "EX_udcpo5_e     0.000000e+00\n",
       "EX_4hthr_e      0.000000e+00\n",
       "EX_salchs2_e    0.000000e+00\n",
       "EX_tton_e       0.000000e+00\n",
       "Name: fluxes, Length: 2546, dtype: float64"
      ]
     },
     "execution_count": 6,
     "metadata": {},
     "output_type": "execute_result"
    }
   ],
   "source": [
    "solution = model.optimize()\n",
    "solution.fluxes"
   ]
  },
  {
   "cell_type": "markdown",
   "metadata": {},
   "source": [
    "`solution.fluxes` is a pandas Series object (https://pandas.pydata.org/pandas-docs/stable/reference/api/pandas.Series.html)\n",
    "A Series is essentially a 1-D vector that has a label for each entry, called an \"index\" which is shown to the left of each\n",
    "flux when we print them."
   ]
  },
  {
   "cell_type": "markdown",
   "metadata": {},
   "source": [
    "You can get the value for a specific entry in a Series by using the index names--both individual names, as well as a list of names, work."
   ]
  },
  {
   "cell_type": "code",
   "execution_count": 7,
   "metadata": {},
   "outputs": [
    {
     "name": "stdout",
     "output_type": "stream",
     "text": [
      "0.0\n",
      "12DGR120tipp    0.000000e+00\n",
      "12DGR140tipp    0.000000e+00\n",
      "12DGR141tipp   -6.057687e-19\n",
      "12DGR160tipp    0.000000e+00\n",
      "12DGR161tipp    0.000000e+00\n",
      "12DGR180tipp    0.000000e+00\n",
      "12DGR181tipp    0.000000e+00\n",
      "12PPDRtex       0.000000e+00\n",
      "12PPDRtpp       0.000000e+00\n",
      "12PPDStex       0.000000e+00\n",
      "Name: fluxes, dtype: float64\n"
     ]
    }
   ],
   "source": [
    "print(solution.fluxes['12DGR120tipp'])\n",
    "print(solution.fluxes[solution.fluxes.index[0:10]])"
   ]
  },
  {
   "cell_type": "markdown",
   "metadata": {},
   "source": [
    "The current media conditions for a model can be explored a few different ways in cobrapy.\n",
    "The first way relies on knowing the reaction identifier prefix associated with exchange reactions.\n",
    "To recap from our conversation, and exchange reaction is any reaction that moves a metabolite into/out of the boundary of the model,\n",
    "e.g., it creates it from nothing.\n",
    "\n",
    "Lets inspect the boundary reactions in the model. The `model.boundary` attribute points to all the reactions in the model that interact with the boundary."
   ]
  },
  {
   "cell_type": "code",
   "execution_count": 8,
   "metadata": {},
   "outputs": [
    {
     "data": {
      "text/plain": [
       "[<Reaction DM_4HBA at 0x11fbb60b8>,\n",
       " <Reaction DM_5DRIB at 0x11fbb6320>,\n",
       " <Reaction DM_HMFURN at 0x11fbb6390>,\n",
       " <Reaction DM_OXAM at 0x11fbb6400>,\n",
       " <Reaction EX_chitob_e at 0x11fc4f080>,\n",
       " <Reaction EX_pydxn_e at 0x11fc4f278>,\n",
       " <Reaction EX_pydx_e at 0x11fc4f4e0>,\n",
       " <Reaction EX_12ppd__R_e at 0x11fc4f780>,\n",
       " <Reaction EX_12ppd__S_e at 0x11fc4f7f0>,\n",
       " <Reaction EX_14glucan_e at 0x11fc4f860>,\n",
       " <Reaction EX_15dap_e at 0x11fc4f8d0>,\n",
       " <Reaction EX_23camp_e at 0x11fc4f940>,\n",
       " <Reaction EX_23ccmp_e at 0x11fc4f9b0>,\n",
       " <Reaction EX_23cgmp_e at 0x11fc4fa20>,\n",
       " <Reaction EX_23cump_e at 0x11fc4fa90>,\n",
       " <Reaction EX_23dappa_e at 0x11fc4fb00>,\n",
       " <Reaction EX_26dap__M_e at 0x11fc4fb70>,\n",
       " <Reaction EX_2ddglcn_e at 0x11fc4fbe0>,\n",
       " <Reaction EX_34dhpac_e at 0x11fc4fc50>,\n",
       " <Reaction EX_3amp_e at 0x11fc4fcc0>,\n",
       " <Reaction EX_3cmp_e at 0x11fc4fd30>,\n",
       " <Reaction EX_3gmp_e at 0x11fc4fda0>,\n",
       " <Reaction EX_3hcinnm_e at 0x11fc4fe10>,\n",
       " <Reaction EX_3hpppn_e at 0x11fc4ffd0>,\n",
       " <Reaction EX_3ump_e at 0x11fc571d0>,\n",
       " <Reaction EX_4abut_e at 0x11fc57240>,\n",
       " <Reaction EX_4hoxpacd_e at 0x11fc572b0>,\n",
       " <Reaction EX_5dglcn_e at 0x11fc57320>,\n",
       " <Reaction EX_LalaDgluMdapDala_e at 0x11fc57390>,\n",
       " <Reaction EX_LalaDgluMdap_e at 0x11fc57400>,\n",
       " <Reaction EX_ac_e at 0x11fc57470>,\n",
       " <Reaction EX_acac_e at 0x11fc57518>,\n",
       " <Reaction EX_acald_e at 0x11fc57588>,\n",
       " <Reaction EX_acgal1p_e at 0x11fc575f8>,\n",
       " <Reaction EX_acgal_e at 0x11fc57668>,\n",
       " <Reaction EX_acgam1p_e at 0x11fc576d8>,\n",
       " <Reaction EX_acgam_e at 0x11fc57748>,\n",
       " <Reaction EX_acmana_e at 0x11fc577b8>,\n",
       " <Reaction EX_acmum_e at 0x11fc57828>,\n",
       " <Reaction EX_acnam_e at 0x11fc57898>,\n",
       " <Reaction EX_acolipa_e at 0x11fc57908>,\n",
       " <Reaction EX_acser_e at 0x11fc57978>,\n",
       " <Reaction EX_ade_e at 0x11fc579e8>,\n",
       " <Reaction EX_adn_e at 0x11fc57a58>,\n",
       " <Reaction EX_adocbl_e at 0x11fc57ac8>,\n",
       " <Reaction EX_ag_e at 0x11fc57b38>,\n",
       " <Reaction EX_agm_e at 0x11fc57e48>,\n",
       " <Reaction EX_akg_e at 0x11fc57eb8>,\n",
       " <Reaction EX_ala__B_e at 0x11fc57f28>,\n",
       " <Reaction EX_ala__D_e at 0x11fc57f98>,\n",
       " <Reaction EX_ala__L_e at 0x11fc64048>,\n",
       " <Reaction EX_alaala_e at 0x11fc640b8>,\n",
       " <Reaction EX_all__D_e at 0x11fc64128>,\n",
       " <Reaction EX_alltn_e at 0x11fc64198>,\n",
       " <Reaction EX_amp_e at 0x11fc64208>,\n",
       " <Reaction EX_anhgm_e at 0x11fc64278>,\n",
       " <Reaction EX_arab__L_e at 0x11fc642e8>,\n",
       " <Reaction EX_arbtn_e at 0x11fc64358>,\n",
       " <Reaction EX_arbtn__fe3_e at 0x11fc643c8>,\n",
       " <Reaction EX_arg__L_e at 0x11fc64438>,\n",
       " <Reaction EX_ascb__L_e at 0x11fc644a8>,\n",
       " <Reaction EX_asn__L_e at 0x11fc64518>,\n",
       " <Reaction EX_aso3_e at 0x11fc64588>,\n",
       " <Reaction EX_asp__L_e at 0x11fc645f8>,\n",
       " <Reaction EX_but_e at 0x11fc64668>,\n",
       " <Reaction EX_butso3_e at 0x11fc646d8>,\n",
       " <Reaction EX_ca2_e at 0x11fc64748>,\n",
       " <Reaction EX_cbi_e at 0x11fc647b8>,\n",
       " <Reaction EX_cbl1_e at 0x11fc64828>,\n",
       " <Reaction EX_cd2_e at 0x11fc64898>,\n",
       " <Reaction EX_cgly_e at 0x11fc64908>,\n",
       " <Reaction EX_chol_e at 0x11fc64978>,\n",
       " <Reaction EX_cit_e at 0x11fc649e8>,\n",
       " <Reaction EX_icit_e at 0x11fc64a58>,\n",
       " <Reaction EX_acon__C_e at 0x11fc64ac8>,\n",
       " <Reaction EX_cl_e at 0x11fc64b38>,\n",
       " <Reaction EX_cmp_e at 0x11fc64be0>,\n",
       " <Reaction EX_co2_e at 0x11fc64c50>,\n",
       " <Reaction EX_cobalt2_e at 0x11fc64cc0>,\n",
       " <Reaction EX_colipa_e at 0x11fc64d30>,\n",
       " <Reaction EX_cpgn_e at 0x11fc64da0>,\n",
       " <Reaction EX_cpgn__un_e at 0x11fc64e10>,\n",
       " <Reaction EX_crn_e at 0x11fc64e80>,\n",
       " <Reaction EX_csn_e at 0x11fc64ef0>,\n",
       " <Reaction EX_cu2_e at 0x11fc64f60>,\n",
       " <Reaction EX_cu_e at 0x11fc64fd0>,\n",
       " <Reaction EX_cyan_e at 0x11fc740b8>,\n",
       " <Reaction EX_cynt_e at 0x11fc74128>,\n",
       " <Reaction EX_cys__D_e at 0x11fc74198>,\n",
       " <Reaction EX_cys__L_e at 0x11fc74208>,\n",
       " <Reaction EX_cysi__L_e at 0x11fc74278>,\n",
       " <Reaction EX_cytd_e at 0x11fc742e8>,\n",
       " <Reaction EX_dad__2_e at 0x11fc74358>,\n",
       " <Reaction EX_damp_e at 0x11fc743c8>,\n",
       " <Reaction EX_dca_e at 0x11fc74438>,\n",
       " <Reaction EX_dcmp_e at 0x11fc744a8>,\n",
       " <Reaction EX_dcyt_e at 0x11fc74518>,\n",
       " <Reaction EX_ddca_e at 0x11fc74588>,\n",
       " <Reaction EX_dgmp_e at 0x11fc745f8>,\n",
       " <Reaction EX_dgsn_e at 0x11fc74668>,\n",
       " <Reaction EX_dha_e at 0x11fc746d8>,\n",
       " <Reaction EX_dimp_e at 0x11fc74748>,\n",
       " <Reaction EX_din_e at 0x11fc747b8>,\n",
       " <Reaction EX_dms_e at 0x11fc74828>,\n",
       " <Reaction EX_dmso_e at 0x11fc74898>,\n",
       " <Reaction EX_dopa_e at 0x11fc74908>,\n",
       " <Reaction EX_dtmp_e at 0x11fc74978>,\n",
       " <Reaction EX_dump_e at 0x11fc749e8>,\n",
       " <Reaction EX_duri_e at 0x11fc74a58>,\n",
       " <Reaction EX_eca4colipa_e at 0x11fc74ac8>,\n",
       " <Reaction EX_enlipa_e at 0x11fc74b38>,\n",
       " <Reaction EX_enter_e at 0x11fc74ba8>,\n",
       " <Reaction EX_etha_e at 0x11fc74e10>,\n",
       " <Reaction EX_ethso3_e at 0x11fc74e80>,\n",
       " <Reaction EX_etoh_e at 0x11fc74ef0>,\n",
       " <Reaction EX_f6p_e at 0x11fc74f60>,\n",
       " <Reaction EX_fald_e at 0x11fc82208>,\n",
       " <Reaction EX_fe2_e at 0x11fc824a8>,\n",
       " <Reaction EX_fe3_e at 0x11fc82780>,\n",
       " <Reaction EX_fe3dcit_e at 0x11fc827f0>,\n",
       " <Reaction EX_fe3dhbzs_e at 0x11fc829e8>,\n",
       " <Reaction EX_fe3hox_e at 0x11fc82b70>,\n",
       " <Reaction EX_fe3hox__un_e at 0x11fc82d68>,\n",
       " <Reaction EX_fecrm_e at 0x11fc82ef0>,\n",
       " <Reaction EX_fecrm__un_e at 0x11fc89160>,\n",
       " <Reaction EX_feenter_e at 0x11fc892e8>,\n",
       " <Reaction EX_feoxam_e at 0x11fc89518>,\n",
       " <Reaction EX_feoxam__un_e at 0x11fc89710>,\n",
       " <Reaction EX_for_e at 0x11fc89898>,\n",
       " <Reaction EX_fru_e at 0x11fc89b70>,\n",
       " <Reaction EX_frulys_e at 0x11fc89e10>,\n",
       " <Reaction EX_fruur_e at 0x11fc89fd0>,\n",
       " <Reaction EX_fuc__L_e at 0x11fc912b0>,\n",
       " <Reaction EX_fum_e at 0x11fc91518>,\n",
       " <Reaction EX_g1p_e at 0x11fc917b8>,\n",
       " <Reaction EX_g3pc_e at 0x11fc919e8>,\n",
       " <Reaction EX_g3pe_e at 0x11fc91c50>,\n",
       " <Reaction EX_g3pg_e at 0x11fc91e80>,\n",
       " <Reaction EX_g3pi_e at 0x11fc970f0>,\n",
       " <Reaction EX_g3ps_e at 0x11fc97358>,\n",
       " <Reaction EX_g6p_e at 0x11fc97550>,\n",
       " <Reaction EX_gal1p_e at 0x11fc977b8>,\n",
       " <Reaction EX_gal__bD_e at 0x11fc97a20>,\n",
       " <Reaction EX_gal_e at 0x11fc97c88>,\n",
       " <Reaction EX_galct__D_e at 0x11fc97f28>,\n",
       " <Reaction EX_galctn__D_e at 0x11fca0198>,\n",
       " <Reaction EX_galctn__L_e at 0x11fca03c8>,\n",
       " <Reaction EX_galt_e at 0x11fca05c0>,\n",
       " <Reaction EX_galur_e at 0x11fca0860>,\n",
       " <Reaction EX_gam6p_e at 0x11fca0ac8>,\n",
       " <Reaction EX_gam_e at 0x11fca0d30>,\n",
       " <Reaction EX_gbbtn_e at 0x11fca0f98>,\n",
       " <Reaction EX_gdp_e at 0x11fca6240>,\n",
       " <Reaction EX_glc__D_e at 0x11fca64e0>,\n",
       " <Reaction EX_glcn_e at 0x11fca6748>,\n",
       " <Reaction EX_glcr_e at 0x11fca69e8>,\n",
       " <Reaction EX_glcur1p_e at 0x11fca6c88>,\n",
       " <Reaction EX_glcur_e at 0x11fca6eb8>,\n",
       " <Reaction EX_gln__L_e at 0x11fcac160>,\n",
       " <Reaction EX_glu__L_e at 0x11fcac390>,\n",
       " <Reaction EX_gly_e at 0x11fcac5f8>,\n",
       " <Reaction EX_glyald_e at 0x11fcac8d0>,\n",
       " <Reaction EX_glyb_e at 0x11fcacb38>,\n",
       " <Reaction EX_glyc2p_e at 0x11fcacda0>,\n",
       " <Reaction EX_glyc3p_e at 0x11fcb3048>,\n",
       " <Reaction EX_glyc__R_e at 0x11fcb32b0>,\n",
       " <Reaction EX_glyc_e at 0x11fcb3518>,\n",
       " <Reaction EX_glyclt_e at 0x11fcb37b8>,\n",
       " <Reaction EX_gmp_e at 0x11fcb3a20>,\n",
       " <Reaction EX_gsn_e at 0x11fcb3cc0>,\n",
       " <Reaction EX_gthox_e at 0x11fcb3f28>,\n",
       " <Reaction EX_gthrd_e at 0x11fcba1d0>,\n",
       " <Reaction EX_gtp_e at 0x11fcba438>,\n",
       " <Reaction EX_gua_e at 0x11fcba6d8>,\n",
       " <Reaction EX_h2_e at 0x11fcba9b0>,\n",
       " <Reaction EX_h2o2_e at 0x11fcbacc0>,\n",
       " <Reaction EX_h2o_e at 0x11fcbaf60>,\n",
       " <Reaction EX_h2s_e at 0x11fcc0278>,\n",
       " <Reaction EX_h_e at 0x11fcc0518>,\n",
       " <Reaction EX_hacolipa_e at 0x11fcc07b8>,\n",
       " <Reaction EX_halipa_e at 0x11fcc0940>,\n",
       " <Reaction EX_hdca_e at 0x11fcc0ac8>,\n",
       " <Reaction EX_hdcea_e at 0x11fcc0d30>,\n",
       " <Reaction EX_hg2_e at 0x11fcc0f98>,\n",
       " <Reaction EX_his__L_e at 0x11fcc72b0>,\n",
       " <Reaction EX_hom__L_e at 0x11fcc74e0>,\n",
       " <Reaction EX_hxa_e at 0x11fcc7748>,\n",
       " <Reaction EX_hxan_e at 0x11fcc79e8>,\n",
       " <Reaction EX_idon__L_e at 0x11fcc7c88>,\n",
       " <Reaction EX_ile__L_e at 0x11fcc7ef0>,\n",
       " <Reaction EX_imp_e at 0x11fcce160>,\n",
       " <Reaction EX_indole_e at 0x11fcce400>,\n",
       " <Reaction EX_inost_e at 0x11fcce6a0>,\n",
       " <Reaction EX_ins_e at 0x11fcce940>,\n",
       " <Reaction EX_isetac_e at 0x11fccebe0>,\n",
       " <Reaction EX_k_e at 0x11fccee10>,\n",
       " <Reaction EX_kdo2lipid4_e at 0x11fcd30f0>,\n",
       " <Reaction EX_lac__D_e at 0x11fcd32e8>,\n",
       " <Reaction EX_lac__L_e at 0x11fcd3358>,\n",
       " <Reaction EX_lcts_e at 0x11fcd35c0>,\n",
       " <Reaction EX_leu__L_e at 0x11fcd3860>,\n",
       " <Reaction EX_lipa__cold_e at 0x11fcd3a90>,\n",
       " <Reaction EX_lipa_e at 0x11fcd3b00>,\n",
       " <Reaction EX_lys__L_e at 0x11fcd3d68>,\n",
       " <Reaction EX_lyx__L_e at 0x11fcd3f98>,\n",
       " <Reaction EX_mal__D_e at 0x11fcdc240>,\n",
       " <Reaction EX_mal__L_e at 0x11fcdc4a8>,\n",
       " <Reaction EX_malt_e at 0x11fcdc710>,\n",
       " <Reaction EX_malthx_e at 0x11fcdc9b0>,\n",
       " <Reaction EX_maltpt_e at 0x11fcdcba8>,\n",
       " <Reaction EX_malttr_e at 0x11fcdcd68>,\n",
       " <Reaction EX_maltttr_e at 0x11fcdcf98>,\n",
       " <Reaction EX_man6p_e at 0x11fce31d0>,\n",
       " <Reaction EX_man_e at 0x11fce3438>,\n",
       " <Reaction EX_manglyc_e at 0x11fce36d8>,\n",
       " <Reaction EX_melib_e at 0x11fce3940>,\n",
       " <Reaction EX_met__D_e at 0x11fce3ba8>,\n",
       " <Reaction EX_met__L_e at 0x11fce3dd8>,\n",
       " <Reaction EX_metsox__R__L_e at 0x11fcea048>,\n",
       " <Reaction EX_metsox__S__L_e at 0x11fcea208>,\n",
       " <Reaction EX_mg2_e at 0x11fcea438>,\n",
       " <Reaction EX_minohp_e at 0x11fcea6d8>,\n",
       " <Reaction EX_mmet_e at 0x11fcea908>,\n",
       " <Reaction EX_mn2_e at 0x11fceab70>,\n",
       " <Reaction EX_mnl_e at 0x11fceae48>,\n",
       " <Reaction EX_mobd_e at 0x11fcef128>,\n",
       " <Reaction EX_mso3_e at 0x11fcef390>,\n",
       " <Reaction EX_n2o_e at 0x11fcef5c0>,\n",
       " <Reaction EX_na1_e at 0x11fcef860>,\n",
       " <Reaction EX_nac_e at 0x11fcefb38>,\n",
       " <Reaction EX_nh4_e at 0x11fcefdd8>,\n",
       " <Reaction EX_ni2_e at 0x11fcf70b8>,\n",
       " <Reaction EX_nmn_e at 0x11fcf7390>,\n",
       " <Reaction EX_no2_e at 0x11fcf7630>,\n",
       " <Reaction EX_no3_e at 0x11fcf7908>,\n",
       " <Reaction EX_no_e at 0x11fcf7be0>,\n",
       " <Reaction EX_o2_e at 0x11fcf7eb8>,\n",
       " <Reaction EX_o2s_e at 0x11fcfe208>,\n",
       " <Reaction EX_ocdca_e at 0x11fcfe4a8>,\n",
       " <Reaction EX_ocdcea_e at 0x11fcfe710>,\n",
       " <Reaction EX_octa_e at 0x11fcfe908>,\n",
       " <Reaction EX_orn_e at 0x11fcfeba8>,\n",
       " <Reaction EX_orot_e at 0x11fcfee10>,\n",
       " <Reaction EX_oaa_e at 0x11fd030f0>,\n",
       " <Reaction EX_pacald_e at 0x11fd03390>,\n",
       " <Reaction EX_peamn_e at 0x11fd035f8>,\n",
       " <Reaction EX_phe__L_e at 0x11fd03898>,\n",
       " <Reaction EX_pheme_e at 0x11fd03ac8>,\n",
       " <Reaction EX_pi_e at 0x11fd03d30>,\n",
       " <Reaction EX_pnto__R_e at 0x11fd0a048>,\n",
       " <Reaction EX_ppa_e at 0x11fd0a240>,\n",
       " <Reaction EX_ppal_e at 0x11fd0a4e0>,\n",
       " <Reaction EX_pppn_e at 0x11fd0a780>,\n",
       " <Reaction EX_ppt_e at 0x11fd0aa20>,\n",
       " <Reaction EX_pro__L_e at 0x11fd0ac88>,\n",
       " <Reaction EX_progly_e at 0x11fd0aef0>,\n",
       " <Reaction EX_psclys_e at 0x11fd110b8>,\n",
       " <Reaction EX_pser__L_e at 0x11fd11240>,\n",
       " <Reaction EX_ptrc_e at 0x11fd11470>,\n",
       " <Reaction EX_pyr_e at 0x11fd11710>,\n",
       " <Reaction EX_r5p_e at 0x11fd119b0>,\n",
       " <Reaction EX_rib__D_e at 0x11fd11c50>,\n",
       " <Reaction EX_rmn_e at 0x11fd11eb8>,\n",
       " <Reaction EX_sbt__D_e at 0x11fd17198>,\n",
       " <Reaction EX_ser__D_e at 0x11fd17400>,\n",
       " <Reaction EX_ser__L_e at 0x11fd17470>,\n",
       " <Reaction EX_skm_e at 0x11fd176d8>,\n",
       " <Reaction EX_so2_e at 0x11fd17978>,\n",
       " <Reaction EX_so3_e at 0x11fd17c18>,\n",
       " <Reaction EX_so4_e at 0x11fd17ef0>,\n",
       " <Reaction EX_spmd_e at 0x11fd1e208>,\n",
       " <Reaction EX_succ_e at 0x11fd1e4a8>,\n",
       " <Reaction EX_sucr_e at 0x11fd1e748>,\n",
       " <Reaction EX_sulfac_e at 0x11fd1e9e8>,\n",
       " <Reaction EX_tartr__L_e at 0x11fd1ec18>,\n",
       " <Reaction EX_taur_e at 0x11fd1ee48>,\n",
       " <Reaction EX_tcynt_e at 0x11fd25128>,\n",
       " <Reaction EX_thm_e at 0x11fd253c8>,\n",
       " <Reaction EX_thr__L_e at 0x11fd25668>,\n",
       " <Reaction EX_thrp_e at 0x11fd258d0>,\n",
       " <Reaction EX_thym_e at 0x11fd25b38>,\n",
       " <Reaction EX_thymd_e at 0x11fd25dd8>,\n",
       " <Reaction EX_tma_e at 0x11fd2b080>,\n",
       " <Reaction EX_tmao_e at 0x11fd2b320>,\n",
       " <Reaction EX_tre_e at 0x11fd2b5c0>,\n",
       " <Reaction EX_trp__L_e at 0x11fd2b828>,\n",
       " <Reaction EX_tsul_e at 0x11fd2ba58>,\n",
       " <Reaction EX_ttdca_e at 0x11fd2bcf8>,\n",
       " <Reaction EX_ttdcea_e at 0x11fd2bf28>,\n",
       " <Reaction EX_tungs_e at 0x11fd310f0>,\n",
       " <Reaction EX_tym_e at 0x11fd31320>,\n",
       " <Reaction EX_tyr__L_e at 0x11fd315c0>,\n",
       " <Reaction EX_tyrp_e at 0x11fd317f0>,\n",
       " <Reaction EX_uacgam_e at 0x11fd31a20>,\n",
       " <Reaction EX_udpacgal_e at 0x11fd31c50>,\n",
       " <Reaction EX_udpg_e at 0x11fd31e80>,\n",
       " <Reaction EX_udpgal_e at 0x11fd39128>,\n",
       " <Reaction EX_udpglcur_e at 0x11fd39358>,\n",
       " <Reaction EX_ump_e at 0x11fd39588>,\n",
       " <Reaction EX_ura_e at 0x11fd39828>,\n",
       " <Reaction EX_urea_e at 0x11fd39ac8>,\n",
       " <Reaction EX_uri_e at 0x11fd39da0>,\n",
       " <Reaction EX_val__L_e at 0x11fd40080>,\n",
       " <Reaction EX_xan_e at 0x11fd402b0>,\n",
       " <Reaction EX_xmp_e at 0x11fd40518>,\n",
       " <Reaction EX_xtsn_e at 0x11fd40780>,\n",
       " <Reaction EX_xyl__D_e at 0x11fd409e8>,\n",
       " <Reaction EX_xylu__L_e at 0x11fd40c50>,\n",
       " <Reaction EX_zn2_e at 0x11fd40eb8>,\n",
       " <Reaction EX_AEP_e at 0x12014dfd0>,\n",
       " <Reaction EX_4hoxpac_e at 0x120157b70>,\n",
       " <Reaction EX_remnant1_e at 0x12017d9e8>,\n",
       " <Reaction EX_colipa20Oag_e at 0x12017dd30>,\n",
       " <Reaction EX_SALCHS4_e at 0x1201a0e80>,\n",
       " <Reaction EX_SALCHS4FE_e at 0x1201a0ef0>,\n",
       " <Reaction EX_SALCHSX_e at 0x1201a9668>,\n",
       " <Reaction EX_tag__D_e at 0x1201bb898>,\n",
       " <Reaction EX_airs_e at 0x1201c6a20>,\n",
       " <Reaction EX_pep_e at 0x1201d2ba8>,\n",
       " <Reaction EX_2pg_e at 0x1201d2ef0>,\n",
       " <Reaction EX_3pg_e at 0x1201d82b0>,\n",
       " <Reaction EX_tet_e at 0x1201e0198>,\n",
       " <Reaction EX_foam_e at 0x1201e04e0>,\n",
       " <Reaction EX_tartr__D_e at 0x1201e0a90>,\n",
       " <Reaction EX_4abz_e at 0x1201f00b8>,\n",
       " <Reaction EX_feroxB_e at 0x1201f0400>,\n",
       " <Reaction EX_feroxBfe_e at 0x1201f05c0>,\n",
       " <Reaction EX_feroxE_e at 0x1201f0780>,\n",
       " <Reaction EX_feroxEfe_e at 0x1201f0940>,\n",
       " <Reaction EX_feroxG_e at 0x1201f0b00>,\n",
       " <Reaction EX_feroxGfe_e at 0x1201f0c88>,\n",
       " <Reaction EX_drib_e at 0x120204400>,\n",
       " <Reaction EX_dxyl_e at 0x120272908>,\n",
       " <Reaction EX_salchs2fe_e at 0x120272978>,\n",
       " <Reaction EX_rnam_e at 0x1202729e8>,\n",
       " <Reaction EX_colipaOA_e at 0x120272a58>,\n",
       " <Reaction EX_udcpo4_e at 0x120272ac8>,\n",
       " <Reaction EX_tcb_e at 0x120272b38>,\n",
       " <Reaction EX_fe3dhbzs3_e at 0x120272ba8>,\n",
       " <Reaction EX_23dhbzs3_e at 0x120272c18>,\n",
       " <Reaction EX_guln__L_e at 0x120272c88>,\n",
       " <Reaction EX_udcpo5_e at 0x120272cf8>,\n",
       " <Reaction EX_4hthr_e at 0x120272d68>,\n",
       " <Reaction EX_salchs2_e at 0x120272dd8>,\n",
       " <Reaction EX_tton_e at 0x120272e48>]"
      ]
     },
     "execution_count": 8,
     "metadata": {},
     "output_type": "execute_result"
    }
   ],
   "source": [
    "model.boundary"
   ]
  },
  {
   "cell_type": "markdown",
   "metadata": {},
   "source": [
    "As you can see, there are many boundary reactions. When cobra reaction objects are printed, the format is \n",
    "`<Reaction REACTION_ID at MEMORY_ADDRESS>`. You'll notice two reaction id prefixes in this list: EX and DM.\n",
    "\"EX_\" is a very standard exchange reaction prefix across models. \"DM_\" also specifies an exchange reaction,\n",
    "but it is a subtype called a demand reaction. Let's look at the difference between the two:"
   ]
  },
  {
   "cell_type": "code",
   "execution_count": 9,
   "metadata": {},
   "outputs": [
    {
     "data": {
      "text/html": [
       "\n",
       "        <table>\n",
       "            <tr>\n",
       "                <td><strong>Reaction identifier</strong></td><td>DM_4HBA</td>\n",
       "            </tr><tr>\n",
       "                <td><strong>Name</strong></td><td>Sink needed to allow 4 hydroxy benzoate to leave system</td>\n",
       "            </tr><tr>\n",
       "                <td><strong>Memory address</strong></td>\n",
       "                <td>0x011fbb60b8</td>\n",
       "            </tr><tr>\n",
       "                <td><strong>Stoichiometry</strong></td>\n",
       "                <td>\n",
       "                    <p style='text-align:right'>4hba_c --> </p>\n",
       "                    <p style='text-align:right'>4-Hydroxy-benzyl-alcohol --> </p>\n",
       "                </td>\n",
       "            </tr><tr>\n",
       "                <td><strong>GPR</strong></td><td></td>\n",
       "            </tr><tr>\n",
       "                <td><strong>Lower bound</strong></td><td>0.0</td>\n",
       "            </tr><tr>\n",
       "                <td><strong>Upper bound</strong></td><td>1000.0</td>\n",
       "            </tr>\n",
       "        </table>\n",
       "        "
      ],
      "text/plain": [
       "<Reaction DM_4HBA at 0x11fbb60b8>"
      ]
     },
     "execution_count": 9,
     "metadata": {},
     "output_type": "execute_result"
    }
   ],
   "source": [
    "model.reactions.get_by_id('DM_4HBA')"
   ]
  },
  {
   "cell_type": "code",
   "execution_count": 10,
   "metadata": {},
   "outputs": [
    {
     "data": {
      "text/html": [
       "\n",
       "        <table>\n",
       "            <tr>\n",
       "                <td><strong>Reaction identifier</strong></td><td>EX_pep_e</td>\n",
       "            </tr><tr>\n",
       "                <td><strong>Name</strong></td><td>Phosphoenolpyruvate exchange</td>\n",
       "            </tr><tr>\n",
       "                <td><strong>Memory address</strong></td>\n",
       "                <td>0x01201d2ba8</td>\n",
       "            </tr><tr>\n",
       "                <td><strong>Stoichiometry</strong></td>\n",
       "                <td>\n",
       "                    <p style='text-align:right'>pep_e --> </p>\n",
       "                    <p style='text-align:right'>Phosphoenolpyruvate --> </p>\n",
       "                </td>\n",
       "            </tr><tr>\n",
       "                <td><strong>GPR</strong></td><td></td>\n",
       "            </tr><tr>\n",
       "                <td><strong>Lower bound</strong></td><td>0.0</td>\n",
       "            </tr><tr>\n",
       "                <td><strong>Upper bound</strong></td><td>1000.0</td>\n",
       "            </tr>\n",
       "        </table>\n",
       "        "
      ],
      "text/plain": [
       "<Reaction EX_pep_e at 0x1201d2ba8>"
      ]
     },
     "execution_count": 10,
     "metadata": {},
     "output_type": "execute_result"
    }
   ],
   "source": [
    "model.reactions.get_by_id('EX_pep_e')"
   ]
  },
  {
   "cell_type": "markdown",
   "metadata": {},
   "source": [
    "They look identical, other than the metabolites involved, right? The lower and upper bounds are the same for both reaction types.\n",
    "In practice, the only differences are that 1) a demand reaction often has a non-zero lower bound, which \"forces\" the model to produce\n",
    "the metabolite involved, and 2) a demand reaction often involves a metabolite in the cytosol, not an external metabolite like most exchange reactions.\n",
    "Here, the demand reaction doesn't \"force\" and flux because the lower bound is 0. But, it does allow the metabolite to leave the system without being transported out\n",
    "of the cell, which is a useful model simplification when we don't know how a metabolite is transformed further or transported, but we know it's required somewhere in the network.\n",
    "The terms \"Demand\" and \"Sink\" reaction are often used interchangably in the literature (e.g., the name of this demand reaction describes it as a \"sink\").\n",
    "\n",
    "Based on these prefixes, we know the media composition is specifed by the exchange reactions which have \"EX_\" as the id prefix. Before we manipulate the media conditions, let's try the other method for obtaining these reactions, which uses the `model.medium` attribute."
   ]
  },
  {
   "cell_type": "code",
   "execution_count": 11,
   "metadata": {},
   "outputs": [
    {
     "data": {
      "text/plain": [
       "{'EX_ca2_e': 0.005,\n",
       " 'EX_cit_e': 0.0005,\n",
       " 'EX_cl_e': 5.016,\n",
       " 'EX_co2_e': 18.5,\n",
       " 'EX_cobalt2_e': 0.005,\n",
       " 'EX_cu2_e': 0.005,\n",
       " 'EX_fe3_e': 0.005,\n",
       " 'EX_glyc_e': 41.0468020414812,\n",
       " 'EX_h2o_e': 1000.0,\n",
       " 'EX_h_e': 100.0,\n",
       " 'EX_k_e': 6.0,\n",
       " 'EX_mg2_e': 0.008,\n",
       " 'EX_mn2_e': 0.005,\n",
       " 'EX_mobd_e': 0.005,\n",
       " 'EX_nh4_e': 15.0,\n",
       " 'EX_o2_e': 18.5,\n",
       " 'EX_pi_e': 0.337,\n",
       " 'EX_so4_e': 1.0,\n",
       " 'EX_thm_e': 2.96498354434133e-08,\n",
       " 'EX_zn2_e': 0.005}"
      ]
     },
     "execution_count": 11,
     "metadata": {},
     "output_type": "execute_result"
    }
   ],
   "source": [
    "model.medium"
   ]
  },
  {
   "cell_type": "markdown",
   "metadata": {},
   "source": [
    "This is a much smaller list than all the reactions with the \"EX_\" prefix--this is because `model.medium` is a dictionary that maps reaction ids to the uptake rates for that reaction; if flux through an exchange reaction is disabled (e.g., it's removed from the media), the reaction is removed from the `model.medium` dictionary.\n",
    "\n",
    "If we wanted to manipulate the media, we have to change the lower bound on the exchange reactions. Negative flux through an exchange reaction leads to a metabolite entering the environment (remember, they are defined as \" met --> \", so negative flux creates the metabolite from nothing). The first way to do this is directly on the bounds of the exchange reactions:"
   ]
  },
  {
   "cell_type": "code",
   "execution_count": 12,
   "metadata": {},
   "outputs": [
    {
     "data": {
      "text/html": [
       "\n",
       "        <table>\n",
       "            <tr>\n",
       "                <td><strong>Reaction identifier</strong></td><td>EX_glyc_e</td>\n",
       "            </tr><tr>\n",
       "                <td><strong>Name</strong></td><td>Glycerol exchange</td>\n",
       "            </tr><tr>\n",
       "                <td><strong>Memory address</strong></td>\n",
       "                <td>0x011fcb3518</td>\n",
       "            </tr><tr>\n",
       "                <td><strong>Stoichiometry</strong></td>\n",
       "                <td>\n",
       "                    <p style='text-align:right'>glyc_e <=> </p>\n",
       "                    <p style='text-align:right'>Glycerol <=> </p>\n",
       "                </td>\n",
       "            </tr><tr>\n",
       "                <td><strong>GPR</strong></td><td></td>\n",
       "            </tr><tr>\n",
       "                <td><strong>Lower bound</strong></td><td>-41.0468020414812</td>\n",
       "            </tr><tr>\n",
       "                <td><strong>Upper bound</strong></td><td>1000.0</td>\n",
       "            </tr>\n",
       "        </table>\n",
       "        "
      ],
      "text/plain": [
       "<Reaction EX_glyc_e at 0x11fcb3518>"
      ]
     },
     "execution_count": 12,
     "metadata": {},
     "output_type": "execute_result"
    }
   ],
   "source": [
    "# Get a reference to the reaction of interest\n",
    "ex_rxn = model.reactions.get_by_id('EX_glyc_e')\n",
    "ex_rxn"
   ]
  },
  {
   "cell_type": "code",
   "execution_count": 13,
   "metadata": {},
   "outputs": [
    {
     "name": "stdout",
     "output_type": "stream",
     "text": [
      "-41.0468020414812\n",
      "1000.0\n",
      "Old bounds: (-41.0468020414812, 1000.0)\n",
      "New bounds: (0, 1000.0)\n"
     ]
    }
   ],
   "source": [
    "print(ex_rxn.lower_bound)\n",
    "print(ex_rxn.upper_bound)\n",
    "print('Old bounds: ' + str(ex_rxn.bounds)) # an alternative way to access both the upper and lower bounds at once\n",
    "\n",
    "# make the lower bound 0 to remove the metabolite from the media. Keep the upper bound at 1000 (the original value) so the metabolite can still be secreted by the cell if required for growth.\n",
    "ex_rxn.bounds = (0, ex_rxn.upper_bound)\n",
    "\n",
    "print('New bounds: ' + str(ex_rxn.bounds))"
   ]
  },
  {
   "cell_type": "code",
   "execution_count": 15,
   "metadata": {},
   "outputs": [
    {
     "data": {
      "text/plain": [
       "{'EX_ca2_e': 0.005,\n",
       " 'EX_cit_e': 0.0005,\n",
       " 'EX_cl_e': 5.016,\n",
       " 'EX_co2_e': 18.5,\n",
       " 'EX_cobalt2_e': 0.005,\n",
       " 'EX_cu2_e': 0.005,\n",
       " 'EX_fe3_e': 0.005,\n",
       " 'EX_h2o_e': 1000.0,\n",
       " 'EX_h_e': 100.0,\n",
       " 'EX_k_e': 6.0,\n",
       " 'EX_mg2_e': 0.008,\n",
       " 'EX_mn2_e': 0.005,\n",
       " 'EX_mobd_e': 0.005,\n",
       " 'EX_nh4_e': 15.0,\n",
       " 'EX_o2_e': 18.5,\n",
       " 'EX_pi_e': 0.337,\n",
       " 'EX_so4_e': 1.0,\n",
       " 'EX_thm_e': 2.96498354434133e-08,\n",
       " 'EX_zn2_e': 0.005}"
      ]
     },
     "execution_count": 15,
     "metadata": {},
     "output_type": "execute_result"
    }
   ],
   "source": [
    "# The reaction we disabled is now removed from model.medium:\n",
    "model.medium"
   ]
  },
  {
   "cell_type": "code",
   "execution_count": 14,
   "metadata": {},
   "outputs": [
    {
     "name": "stderr",
     "output_type": "stream",
     "text": [
      "cobra/util/solver.py:416 \u001b[1;31mUserWarning\u001b[0m: solver status is 'infeasible'\n"
     ]
    },
    {
     "data": {
      "text/html": [
       "<strong><em>infeasible</em> solution</strong>"
      ],
      "text/plain": [
       "<Solution infeasible at 0x11f6a4b38>"
      ]
     },
     "execution_count": 14,
     "metadata": {},
     "output_type": "execute_result"
    }
   ],
   "source": [
    "# Let's try to optimize for biomass production again\n",
    "model.optimize()"
   ]
  },
  {
   "cell_type": "markdown",
   "metadata": {},
   "source": [
    "As you can see, we now get an infeasible solution when trying to optimize for flux through biomass, which means that there is no possible solution that can lead to production of biomass. The metabolite we removed was glycerol, which is a short carbon-containing metabolite. Let's see if we can restore biomass production by adding a different carbon source to the media--try glucose, which has an exchange reaction with the id 'EX_glc__D_e'."
   ]
  },
  {
   "cell_type": "code",
   "execution_count": 17,
   "metadata": {},
   "outputs": [
    {
     "data": {
      "text/html": [
       "<strong><em>Optimal</em> solution with objective value 0.380</strong><br><div>\n",
       "<style scoped>\n",
       "    .dataframe tbody tr th:only-of-type {\n",
       "        vertical-align: middle;\n",
       "    }\n",
       "\n",
       "    .dataframe tbody tr th {\n",
       "        vertical-align: top;\n",
       "    }\n",
       "\n",
       "    .dataframe thead th {\n",
       "        text-align: right;\n",
       "    }\n",
       "</style>\n",
       "<table border=\"1\" class=\"dataframe\">\n",
       "  <thead>\n",
       "    <tr style=\"text-align: right;\">\n",
       "      <th></th>\n",
       "      <th>fluxes</th>\n",
       "      <th>reduced_costs</th>\n",
       "    </tr>\n",
       "  </thead>\n",
       "  <tbody>\n",
       "    <tr>\n",
       "      <td>12DGR120tipp</td>\n",
       "      <td>0.0</td>\n",
       "      <td>0.000000e+00</td>\n",
       "    </tr>\n",
       "    <tr>\n",
       "      <td>12DGR140tipp</td>\n",
       "      <td>0.0</td>\n",
       "      <td>-2.654174e-16</td>\n",
       "    </tr>\n",
       "    <tr>\n",
       "      <td>12DGR141tipp</td>\n",
       "      <td>0.0</td>\n",
       "      <td>-5.048710e-29</td>\n",
       "    </tr>\n",
       "    <tr>\n",
       "      <td>12DGR160tipp</td>\n",
       "      <td>0.0</td>\n",
       "      <td>4.339868e-16</td>\n",
       "    </tr>\n",
       "    <tr>\n",
       "      <td>12DGR161tipp</td>\n",
       "      <td>0.0</td>\n",
       "      <td>-4.291760e-16</td>\n",
       "    </tr>\n",
       "    <tr>\n",
       "      <td>...</td>\n",
       "      <td>...</td>\n",
       "      <td>...</td>\n",
       "    </tr>\n",
       "    <tr>\n",
       "      <td>EX_guln__L_e</td>\n",
       "      <td>0.0</td>\n",
       "      <td>-9.476345e-15</td>\n",
       "    </tr>\n",
       "    <tr>\n",
       "      <td>EX_udcpo5_e</td>\n",
       "      <td>0.0</td>\n",
       "      <td>0.000000e+00</td>\n",
       "    </tr>\n",
       "    <tr>\n",
       "      <td>EX_4hthr_e</td>\n",
       "      <td>0.0</td>\n",
       "      <td>0.000000e+00</td>\n",
       "    </tr>\n",
       "    <tr>\n",
       "      <td>EX_salchs2_e</td>\n",
       "      <td>0.0</td>\n",
       "      <td>0.000000e+00</td>\n",
       "    </tr>\n",
       "    <tr>\n",
       "      <td>EX_tton_e</td>\n",
       "      <td>0.0</td>\n",
       "      <td>0.000000e+00</td>\n",
       "    </tr>\n",
       "  </tbody>\n",
       "</table>\n",
       "<p>2546 rows × 2 columns</p>\n",
       "</div>"
      ],
      "text/plain": [
       "<Solution 0.380 at 0x120fd3198>"
      ]
     },
     "execution_count": 17,
     "metadata": {},
     "output_type": "execute_result"
    }
   ],
   "source": [
    "model.reactions.get_by_id('EX_glc__D_e').bounds = (-10,1000)\n",
    "model.optimize()"
   ]
  },
  {
   "cell_type": "markdown",
   "metadata": {},
   "source": [
    "Great, we restored biomass production. Let's use the `model.medium` attribute to reset the media conditions to the original glycerol-containing medium."
   ]
  },
  {
   "cell_type": "code",
   "execution_count": 19,
   "metadata": {},
   "outputs": [],
   "source": [
    "media = model.medium\n",
    "media['EX_glyc_e'] = 41.046802041481 # add uptake of glycerol. This is an uptake rate, which is defined as a positive number. The lower bound will be this number multiplied by -1.\n",
    "media['EX_glc__D_e'] = 0 # remove glucose\n",
    "model.medium = media"
   ]
  },
  {
   "cell_type": "markdown",
   "metadata": {},
   "source": [
    "Important note: you cannot set the uptake rates directly in the media dictionary by using it without assigning it to a new variable; e.g. this will not work:\n",
    "`model.medium['EX_glc__D_e'] = 0`. The medium has to be extracted/copied from the model, manipulated, and then set as the new media condition using `model.medium = media`.\n",
    "This is because of the getter/setter architecture of the `model.medium` attribute, a common approach in python that can make code much simpler to maintain in some circumstances."
   ]
  },
  {
   "cell_type": "code",
   "execution_count": 23,
   "metadata": {},
   "outputs": [
    {
     "data": {
      "text/html": [
       "<strong><em>Optimal</em> solution with objective value 0.380</strong><br><div>\n",
       "<style scoped>\n",
       "    .dataframe tbody tr th:only-of-type {\n",
       "        vertical-align: middle;\n",
       "    }\n",
       "\n",
       "    .dataframe tbody tr th {\n",
       "        vertical-align: top;\n",
       "    }\n",
       "\n",
       "    .dataframe thead th {\n",
       "        text-align: right;\n",
       "    }\n",
       "</style>\n",
       "<table border=\"1\" class=\"dataframe\">\n",
       "  <thead>\n",
       "    <tr style=\"text-align: right;\">\n",
       "      <th></th>\n",
       "      <th>fluxes</th>\n",
       "      <th>reduced_costs</th>\n",
       "    </tr>\n",
       "  </thead>\n",
       "  <tbody>\n",
       "    <tr>\n",
       "      <td>12DGR120tipp</td>\n",
       "      <td>0.0</td>\n",
       "      <td>0.000000e+00</td>\n",
       "    </tr>\n",
       "    <tr>\n",
       "      <td>12DGR140tipp</td>\n",
       "      <td>0.0</td>\n",
       "      <td>-1.449815e-15</td>\n",
       "    </tr>\n",
       "    <tr>\n",
       "      <td>12DGR141tipp</td>\n",
       "      <td>0.0</td>\n",
       "      <td>0.000000e+00</td>\n",
       "    </tr>\n",
       "    <tr>\n",
       "      <td>12DGR160tipp</td>\n",
       "      <td>0.0</td>\n",
       "      <td>5.297457e-16</td>\n",
       "    </tr>\n",
       "    <tr>\n",
       "      <td>12DGR161tipp</td>\n",
       "      <td>0.0</td>\n",
       "      <td>1.896567e-11</td>\n",
       "    </tr>\n",
       "    <tr>\n",
       "      <td>...</td>\n",
       "      <td>...</td>\n",
       "      <td>...</td>\n",
       "    </tr>\n",
       "    <tr>\n",
       "      <td>EX_guln__L_e</td>\n",
       "      <td>0.0</td>\n",
       "      <td>-2.046608e-14</td>\n",
       "    </tr>\n",
       "    <tr>\n",
       "      <td>EX_udcpo5_e</td>\n",
       "      <td>0.0</td>\n",
       "      <td>0.000000e+00</td>\n",
       "    </tr>\n",
       "    <tr>\n",
       "      <td>EX_4hthr_e</td>\n",
       "      <td>0.0</td>\n",
       "      <td>0.000000e+00</td>\n",
       "    </tr>\n",
       "    <tr>\n",
       "      <td>EX_salchs2_e</td>\n",
       "      <td>0.0</td>\n",
       "      <td>0.000000e+00</td>\n",
       "    </tr>\n",
       "    <tr>\n",
       "      <td>EX_tton_e</td>\n",
       "      <td>0.0</td>\n",
       "      <td>-1.160294e-13</td>\n",
       "    </tr>\n",
       "  </tbody>\n",
       "</table>\n",
       "<p>2546 rows × 2 columns</p>\n",
       "</div>"
      ],
      "text/plain": [
       "<Solution 0.380 at 0x120fd37f0>"
      ]
     },
     "execution_count": 23,
     "metadata": {},
     "output_type": "execute_result"
    }
   ],
   "source": [
    "new_solution = model.optimize()\n",
    "new_solution"
   ]
  },
  {
   "cell_type": "code",
   "execution_count": 22,
   "metadata": {},
   "outputs": [
    {
     "data": {
      "text/plain": [
       "-9.455426006534676"
      ]
     },
     "execution_count": 22,
     "metadata": {},
     "output_type": "execute_result"
    }
   ],
   "source": [
    "# Check out the flux through the glycerol exchange reaction in the new solution to verify it's being used\n",
    "new_solution.fluxes['EX_glyc_e']"
   ]
  },
  {
   "cell_type": "markdown",
   "metadata": {},
   "source": [
    "## Flux Variability Analysis\n",
    "FBA is great for determining optimal growth rates, but there are nearly always an infinite number of solutions (sets of flux values for each reaction in the network) that lead to the same maximal value for the objective (here, flux through the biomass reaction). Flux Variability Analysis (FVA) let's us identify the minimal and maximal flux through individual reactions in the network that still allow an objective value above a specified threshold. In other words, FVA tells us the minimum and maximum flux through a single reaction that allow at least a specified amount of flux through biomass.\n",
    "\n",
    "We can use FVA to identify components of the media that must be consumed in order for the model to grow. Let's get the exchange reactions that are in `model.medium` and perform FVA for each reaction. The critical arguments for the FVA function are the model FVA is being performed on, the list of reactions that FVA will be performed on (the process is performed separately for each reaction in the list), and the fraction of the optimum value of the objective that needs to be maintained when manipulating flux through the target reaction (where the target reaction is the reaction being minimized/maximized in FVA). Here, we'll use `fraction_of_optimum = 1.0` to require 100% of the optimum value to be maintained during FVA."
   ]
  },
  {
   "cell_type": "code",
   "execution_count": 28,
   "metadata": {},
   "outputs": [
    {
     "name": "stdout",
     "output_type": "stream",
     "text": [
      "['EX_ca2_e', 'EX_cit_e', 'EX_cl_e', 'EX_co2_e', 'EX_cobalt2_e', 'EX_cu2_e', 'EX_fe3_e', 'EX_glyc_e', 'EX_h2o_e', 'EX_h_e', 'EX_k_e', 'EX_mg2_e', 'EX_mn2_e', 'EX_mobd_e', 'EX_nh4_e', 'EX_o2_e', 'EX_pi_e', 'EX_so4_e', 'EX_thm_e', 'EX_zn2_e']\n"
     ]
    },
    {
     "data": {
      "text/html": [
       "<div>\n",
       "<style scoped>\n",
       "    .dataframe tbody tr th:only-of-type {\n",
       "        vertical-align: middle;\n",
       "    }\n",
       "\n",
       "    .dataframe tbody tr th {\n",
       "        vertical-align: top;\n",
       "    }\n",
       "\n",
       "    .dataframe thead th {\n",
       "        text-align: right;\n",
       "    }\n",
       "</style>\n",
       "<table border=\"1\" class=\"dataframe\">\n",
       "  <thead>\n",
       "    <tr style=\"text-align: right;\">\n",
       "      <th></th>\n",
       "      <th>minimum</th>\n",
       "      <th>maximum</th>\n",
       "    </tr>\n",
       "  </thead>\n",
       "  <tbody>\n",
       "    <tr>\n",
       "      <td>EX_ca2_e</td>\n",
       "      <td>-1.800098e-03</td>\n",
       "      <td>-0.001800</td>\n",
       "    </tr>\n",
       "    <tr>\n",
       "      <td>EX_cit_e</td>\n",
       "      <td>-5.000000e-04</td>\n",
       "      <td>0.000000</td>\n",
       "    </tr>\n",
       "    <tr>\n",
       "      <td>EX_cl_e</td>\n",
       "      <td>-1.800098e-03</td>\n",
       "      <td>-0.001800</td>\n",
       "    </tr>\n",
       "    <tr>\n",
       "      <td>EX_co2_e</td>\n",
       "      <td>-1.850000e+01</td>\n",
       "      <td>36.002003</td>\n",
       "    </tr>\n",
       "    <tr>\n",
       "      <td>EX_cobalt2_e</td>\n",
       "      <td>-1.200065e-03</td>\n",
       "      <td>-0.001200</td>\n",
       "    </tr>\n",
       "    <tr>\n",
       "      <td>EX_cu2_e</td>\n",
       "      <td>-1.200065e-03</td>\n",
       "      <td>-0.001200</td>\n",
       "    </tr>\n",
       "    <tr>\n",
       "      <td>EX_fe3_e</td>\n",
       "      <td>-5.000000e-03</td>\n",
       "      <td>-0.002785</td>\n",
       "    </tr>\n",
       "    <tr>\n",
       "      <td>EX_glyc_e</td>\n",
       "      <td>-4.104680e+01</td>\n",
       "      <td>-7.020229</td>\n",
       "    </tr>\n",
       "    <tr>\n",
       "      <td>EX_h2o_e</td>\n",
       "      <td>1.365091e+01</td>\n",
       "      <td>116.454065</td>\n",
       "    </tr>\n",
       "    <tr>\n",
       "      <td>EX_h_e</td>\n",
       "      <td>1.262146e+00</td>\n",
       "      <td>83.886574</td>\n",
       "    </tr>\n",
       "    <tr>\n",
       "      <td>EX_k_e</td>\n",
       "      <td>-6.748942e-02</td>\n",
       "      <td>-0.067489</td>\n",
       "    </tr>\n",
       "    <tr>\n",
       "      <td>EX_mg2_e</td>\n",
       "      <td>-3.000163e-03</td>\n",
       "      <td>-0.003000</td>\n",
       "    </tr>\n",
       "    <tr>\n",
       "      <td>EX_mn2_e</td>\n",
       "      <td>-1.200065e-03</td>\n",
       "      <td>-0.001200</td>\n",
       "    </tr>\n",
       "    <tr>\n",
       "      <td>EX_mobd_e</td>\n",
       "      <td>-1.200065e-03</td>\n",
       "      <td>-0.001200</td>\n",
       "    </tr>\n",
       "    <tr>\n",
       "      <td>EX_nh4_e</td>\n",
       "      <td>-1.500000e+01</td>\n",
       "      <td>-4.187739</td>\n",
       "    </tr>\n",
       "    <tr>\n",
       "      <td>EX_o2_e</td>\n",
       "      <td>-1.850000e+01</td>\n",
       "      <td>-0.965480</td>\n",
       "    </tr>\n",
       "    <tr>\n",
       "      <td>EX_pi_e</td>\n",
       "      <td>-3.370000e-01</td>\n",
       "      <td>-0.337000</td>\n",
       "    </tr>\n",
       "    <tr>\n",
       "      <td>EX_so4_e</td>\n",
       "      <td>-1.000000e+00</td>\n",
       "      <td>-0.046354</td>\n",
       "    </tr>\n",
       "    <tr>\n",
       "      <td>EX_thm_e</td>\n",
       "      <td>-2.964984e-08</td>\n",
       "      <td>0.000000</td>\n",
       "    </tr>\n",
       "    <tr>\n",
       "      <td>EX_zn2_e</td>\n",
       "      <td>-1.200065e-03</td>\n",
       "      <td>-0.001200</td>\n",
       "    </tr>\n",
       "  </tbody>\n",
       "</table>\n",
       "</div>"
      ],
      "text/plain": [
       "                   minimum     maximum\n",
       "EX_ca2_e     -1.800098e-03   -0.001800\n",
       "EX_cit_e     -5.000000e-04    0.000000\n",
       "EX_cl_e      -1.800098e-03   -0.001800\n",
       "EX_co2_e     -1.850000e+01   36.002003\n",
       "EX_cobalt2_e -1.200065e-03   -0.001200\n",
       "EX_cu2_e     -1.200065e-03   -0.001200\n",
       "EX_fe3_e     -5.000000e-03   -0.002785\n",
       "EX_glyc_e    -4.104680e+01   -7.020229\n",
       "EX_h2o_e      1.365091e+01  116.454065\n",
       "EX_h_e        1.262146e+00   83.886574\n",
       "EX_k_e       -6.748942e-02   -0.067489\n",
       "EX_mg2_e     -3.000163e-03   -0.003000\n",
       "EX_mn2_e     -1.200065e-03   -0.001200\n",
       "EX_mobd_e    -1.200065e-03   -0.001200\n",
       "EX_nh4_e     -1.500000e+01   -4.187739\n",
       "EX_o2_e      -1.850000e+01   -0.965480\n",
       "EX_pi_e      -3.370000e-01   -0.337000\n",
       "EX_so4_e     -1.000000e+00   -0.046354\n",
       "EX_thm_e     -2.964984e-08    0.000000\n",
       "EX_zn2_e     -1.200065e-03   -0.001200"
      ]
     },
     "execution_count": 28,
     "metadata": {},
     "output_type": "execute_result"
    }
   ],
   "source": [
    "from cobra.flux_analysis import flux_variability_analysis\n",
    "# the keys in the medium dictionary are the reaction ids for each exchange reaction. We also have to convert it to a list to work with the FVA function\n",
    "media_exchange_reactions = list(model.medium.keys()) \n",
    "print(media_exchange_reactions)\n",
    "fva_results = flux_variability_analysis(model,media_exchange_reactions,fraction_of_optimum=1.0)\n",
    "fva_results"
   ]
  },
  {
   "cell_type": "markdown",
   "metadata": {},
   "source": [
    "The FVA function returns a pandas dataframe, which is like a multi-dimensional Series. Indexing works the same way--each row can have a name, called the index, and each column can have a name as well. Columns are accessed by their names, but rows have to be accessed with the `.loc` operator to access by their name. (See this extremely thorough tutorial, which I've googled a million times and still use for reference frequently: https://pandas.pydata.org/pandas-docs/stable/user_guide/indexing.html)\n",
    "\n",
    "We'll use some logical operations to extract metabolites for which uptake was required for optimal growth. Remember that uptake into the cell for an exchange reaction means that there was negative flux. If the maximum flux value obtained from FVA is negative, the metabolite was taken up by the model."
   ]
  },
  {
   "cell_type": "code",
   "execution_count": 32,
   "metadata": {},
   "outputs": [
    {
     "data": {
      "text/html": [
       "<div>\n",
       "<style scoped>\n",
       "    .dataframe tbody tr th:only-of-type {\n",
       "        vertical-align: middle;\n",
       "    }\n",
       "\n",
       "    .dataframe tbody tr th {\n",
       "        vertical-align: top;\n",
       "    }\n",
       "\n",
       "    .dataframe thead th {\n",
       "        text-align: right;\n",
       "    }\n",
       "</style>\n",
       "<table border=\"1\" class=\"dataframe\">\n",
       "  <thead>\n",
       "    <tr style=\"text-align: right;\">\n",
       "      <th></th>\n",
       "      <th>minimum</th>\n",
       "      <th>maximum</th>\n",
       "    </tr>\n",
       "  </thead>\n",
       "  <tbody>\n",
       "    <tr>\n",
       "      <td>EX_ca2_e</td>\n",
       "      <td>-0.001800</td>\n",
       "      <td>-0.001800</td>\n",
       "    </tr>\n",
       "    <tr>\n",
       "      <td>EX_cl_e</td>\n",
       "      <td>-0.001800</td>\n",
       "      <td>-0.001800</td>\n",
       "    </tr>\n",
       "    <tr>\n",
       "      <td>EX_cobalt2_e</td>\n",
       "      <td>-0.001200</td>\n",
       "      <td>-0.001200</td>\n",
       "    </tr>\n",
       "    <tr>\n",
       "      <td>EX_cu2_e</td>\n",
       "      <td>-0.001200</td>\n",
       "      <td>-0.001200</td>\n",
       "    </tr>\n",
       "    <tr>\n",
       "      <td>EX_fe3_e</td>\n",
       "      <td>-0.005000</td>\n",
       "      <td>-0.002785</td>\n",
       "    </tr>\n",
       "    <tr>\n",
       "      <td>EX_glyc_e</td>\n",
       "      <td>-41.046802</td>\n",
       "      <td>-7.020229</td>\n",
       "    </tr>\n",
       "    <tr>\n",
       "      <td>EX_k_e</td>\n",
       "      <td>-0.067489</td>\n",
       "      <td>-0.067489</td>\n",
       "    </tr>\n",
       "    <tr>\n",
       "      <td>EX_mg2_e</td>\n",
       "      <td>-0.003000</td>\n",
       "      <td>-0.003000</td>\n",
       "    </tr>\n",
       "    <tr>\n",
       "      <td>EX_mn2_e</td>\n",
       "      <td>-0.001200</td>\n",
       "      <td>-0.001200</td>\n",
       "    </tr>\n",
       "    <tr>\n",
       "      <td>EX_mobd_e</td>\n",
       "      <td>-0.001200</td>\n",
       "      <td>-0.001200</td>\n",
       "    </tr>\n",
       "    <tr>\n",
       "      <td>EX_nh4_e</td>\n",
       "      <td>-15.000000</td>\n",
       "      <td>-4.187739</td>\n",
       "    </tr>\n",
       "    <tr>\n",
       "      <td>EX_o2_e</td>\n",
       "      <td>-18.500000</td>\n",
       "      <td>-0.965480</td>\n",
       "    </tr>\n",
       "    <tr>\n",
       "      <td>EX_pi_e</td>\n",
       "      <td>-0.337000</td>\n",
       "      <td>-0.337000</td>\n",
       "    </tr>\n",
       "    <tr>\n",
       "      <td>EX_so4_e</td>\n",
       "      <td>-1.000000</td>\n",
       "      <td>-0.046354</td>\n",
       "    </tr>\n",
       "    <tr>\n",
       "      <td>EX_zn2_e</td>\n",
       "      <td>-0.001200</td>\n",
       "      <td>-0.001200</td>\n",
       "    </tr>\n",
       "  </tbody>\n",
       "</table>\n",
       "</div>"
      ],
      "text/plain": [
       "                minimum   maximum\n",
       "EX_ca2_e      -0.001800 -0.001800\n",
       "EX_cl_e       -0.001800 -0.001800\n",
       "EX_cobalt2_e  -0.001200 -0.001200\n",
       "EX_cu2_e      -0.001200 -0.001200\n",
       "EX_fe3_e      -0.005000 -0.002785\n",
       "EX_glyc_e    -41.046802 -7.020229\n",
       "EX_k_e        -0.067489 -0.067489\n",
       "EX_mg2_e      -0.003000 -0.003000\n",
       "EX_mn2_e      -0.001200 -0.001200\n",
       "EX_mobd_e     -0.001200 -0.001200\n",
       "EX_nh4_e     -15.000000 -4.187739\n",
       "EX_o2_e      -18.500000 -0.965480\n",
       "EX_pi_e       -0.337000 -0.337000\n",
       "EX_so4_e      -1.000000 -0.046354\n",
       "EX_zn2_e      -0.001200 -0.001200"
      ]
     },
     "execution_count": 32,
     "metadata": {},
     "output_type": "execute_result"
    }
   ],
   "source": [
    "required_uptake = fva_results.loc[fva_results['maximum'] < 0]\n",
    "required_uptake"
   ]
  },
  {
   "cell_type": "markdown",
   "metadata": {},
   "source": [
    "The list of reactions is nice, but what if we want to extract the actual metabolites that are involved, in an automated way?"
   ]
  },
  {
   "cell_type": "code",
   "execution_count": 39,
   "metadata": {},
   "outputs": [
    {
     "name": "stdout",
     "output_type": "stream",
     "text": [
      "['Calcium', 'Chloride', 'Co2', 'Cu2', 'Fe3', 'Glycerol', 'potassium', 'magnesium', 'Mn2', 'Molybdate-MoO4', 'Ammonium', 'O2', 'Phosphate', 'Sulfate', 'Zinc']\n"
     ]
    }
   ],
   "source": [
    "list_of_metabolites = []\n",
    "for ex_rxn in required_uptake.index:\n",
    "    rxn_obj = model.reactions.get_by_id(ex_rxn)\n",
    "    met = rxn_obj.reactants[0] # in exchange reactions, there is only 1 metabolite, and it is always a reactant rather than a product\n",
    "    list_of_metabolites.append(met.name) # get the name of the metabolite; we could also extract the entire metabolite object, or the metabolite.id\n",
    "\n",
    "print(list_of_metabolites)"
   ]
  },
  {
   "cell_type": "markdown",
   "metadata": {},
   "source": [
    "we can do the same thing in the one-liner below, which takes advantage of some python tricks. This can shorten your code, but requires understanding how\n",
    "this trick works (Here's an intro to this specific trick, known as list comprehension: https://www.pythonforbeginners.com/basics/list-comprehensions-in-python and also a lot of detail on how this is allowed in python and the benefits: https://wiki.python.org/moin/Generators)"
   ]
  },
  {
   "cell_type": "code",
   "execution_count": 35,
   "metadata": {},
   "outputs": [
    {
     "data": {
      "text/plain": [
       "['ca2_e',\n",
       " 'cl_e',\n",
       " 'cobalt2_e',\n",
       " 'cu2_e',\n",
       " 'fe3_e',\n",
       " 'glyc_e',\n",
       " 'k_e',\n",
       " 'mg2_e',\n",
       " 'mn2_e',\n",
       " 'mobd_e',\n",
       " 'nh4_e',\n",
       " 'o2_e',\n",
       " 'pi_e',\n",
       " 'so4_e',\n",
       " 'zn2_e']"
      ]
     },
     "execution_count": 35,
     "metadata": {},
     "output_type": "execute_result"
    }
   ],
   "source": [
    "print([model.reactions.get_by_id(ex_rxn).reactants[0].name for ex_rxn in required_uptake.index])"
   ]
  }
 ],
 "metadata": {
  "kernelspec": {
   "display_name": "go_pacm",
   "language": "python",
   "name": "go_pacm"
  },
  "language_info": {
   "codemirror_mode": {
    "name": "ipython",
    "version": 3
   },
   "file_extension": ".py",
   "mimetype": "text/x-python",
   "name": "python",
   "nbconvert_exporter": "python",
   "pygments_lexer": "ipython3",
   "version": "3.7.3"
  }
 },
 "nbformat": 4,
 "nbformat_minor": 4
}
