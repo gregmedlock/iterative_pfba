{
 "cells": [
  {
   "cell_type": "markdown",
   "metadata": {},
   "source": [
    "Simulated and Experimental Comparison for iterative pFBA"
   ]
  },
  {
   "cell_type": "code",
   "execution_count": 2,
   "metadata": {},
   "outputs": [],
   "source": [
    "import pandas as pd\n",
    "import numpy as np\n",
    "import matplotlib\n",
    "import sklearn\n",
    "import seaborn\n",
    "import matplotlib.pyplot as plt\n",
    "import matplotlib.colors as colors\n",
    "from scipy.stats import zscore, spearmanr\n",
    "from sklearn.preprocessing import MinMaxScaler\n",
    "from scipy.stats import pearsonr"
   ]
  },
  {
   "cell_type": "code",
   "execution_count": 3,
   "metadata": {},
   "outputs": [],
   "source": [
    "#import consumption production frame from iterative pFBA analysis\n",
    "fortyCP = pd.read_pickle(\"pFBA_df.pkl\")"
   ]
  },
  {
   "cell_type": "code",
   "execution_count": 4,
   "metadata": {},
   "outputs": [],
   "source": [
    "#import values from experimenal testing\n",
    "biolog = pd.read_csv('plata_biolog_raw.csv', index_col = 0)"
   ]
  },
  {
   "cell_type": "markdown",
   "metadata": {},
   "source": [
    "Rewriting some of the nutrient names in experimental data to match nomenclature of simulated nutrients"
   ]
  },
  {
   "cell_type": "code",
   "execution_count": 5,
   "metadata": {},
   "outputs": [],
   "source": [
    "biolog.columns = ['Dextrin', 'Maltose', 'TRHL', 'CELB', 'Gentiobiose',\n",
    "       'Sucrose', 'Stachyose', 'D-Raffinose', 'LACT', 'Melibiose',\n",
    "       'b-Methyl-D-Glucoside', 'Salicin', 'N-Acetyl-D-glucosamine',\n",
    "       'N-Acetyl-D-mannosamine', 'N-Acetyl-DGalactosamine',\n",
    "       'N-Acetyl-Neuraminic Acid', 'D-Glucose', 'D-Mannose', 'D-Fructose',\n",
    "       'Galactose', 'D-Fucose', 'L-Fucose', 'L-Rhamnose', 'Inosine',\n",
    "       'Sorbitol', 'D-Mannitol', 'D-Arabitol', 'L-Inositol', 'Glycerol',\n",
    "       'D-glucose-6-phosphate', 'Fructose-6-Phosphate', 'D-Aspartic Acid',\n",
    "       'D-Serine', 'Gelatin', 'L-Alanine', 'L-Arginine', 'L-Aspartate',\n",
    "       'L-Glutamate', 'L-Histidine', 'L-PyroglutamicAcid', 'L-Serine',\n",
    "       'Pectin', 'D-Galacturonate', 'L-GalactonicAcid-g-Lactone',\n",
    "       'GLCN', 'Glucuronate', 'Mucic Acid', 'Quinic Acid',\n",
    "       'D-Saccharic Acid', 'P-HydroxyPhenyl AceticAcid', 'L-Lactate',\n",
    "       'Citrate', '2-Oxoglutarate', 'D-Malic Acid', 'L-Malate',\n",
    "       'GABA', 'a-HydroxyButyric Acid', '2-Oxobutyrate',\n",
    "       'Acetoacetic Acid', 'Propionic Acid', 'Acetic Acid', 'Formate']\n",
    "biolog_nutrients = biolog.columns\n",
    "fortyCP_nutrients = fortyCP.columns"
   ]
  },
  {
   "cell_type": "code",
   "execution_count": 6,
   "metadata": {},
   "outputs": [
    {
     "name": "stdout",
     "output_type": "stream",
     "text": [
      "Index(['Dextrin', 'Maltose', 'TRHL', 'CELB', 'Stachyose', 'LACT', 'Melibiose',\n",
      "       'N-Acetyl-D-glucosamine', 'N-Acetyl-D-mannosamine', 'D-Glucose',\n",
      "       'D-Mannose', 'D-Fructose', 'Galactose', 'Inosine', 'Sorbitol',\n",
      "       'D-Mannitol', 'L-Inositol', 'Glycerol', 'D-glucose-6-phosphate',\n",
      "       'L-Alanine', 'L-Arginine', 'L-Aspartate', 'L-Glutamate', 'L-Histidine',\n",
      "       'L-Serine', 'D-Galacturonate', 'GLCN', 'Glucuronate', 'L-Lactate',\n",
      "       'Citrate', '2-Oxoglutarate', 'L-Malate', 'GABA', '2-Oxobutyrate',\n",
      "       'Formate'],\n",
      "      dtype='object')\n",
      "number of nutrients that the two datasets have in common:\n",
      "35\n"
     ]
    }
   ],
   "source": [
    "intersection = biolog_nutrients.intersection(fortyCP_nutrients)\n",
    "print(intersection)\n",
    "print(\"number of nutrients that the two datasets have in common:\")\n",
    "print(intersection.shape[0])"
   ]
  },
  {
   "cell_type": "markdown",
   "metadata": {},
   "source": [
    "Overall Comparison"
   ]
  },
  {
   "cell_type": "code",
   "execution_count": 7,
   "metadata": {},
   "outputs": [],
   "source": [
    "fortyCP.sort_index(inplace = True)\n",
    "biolog.sort_index(inplace = True)"
   ]
  },
  {
   "cell_type": "code",
   "execution_count": 8,
   "metadata": {},
   "outputs": [
    {
     "name": "stderr",
     "output_type": "stream",
     "text": [
      "C:\\Users\\Caroline\\Anaconda3\\envs\\capstone\\lib\\site-packages\\numpy\\lib\\function_base.py:2534: RuntimeWarning: invalid value encountered in true_divide\n",
      "  c /= stddev[:, None]\n",
      "C:\\Users\\Caroline\\Anaconda3\\envs\\capstone\\lib\\site-packages\\numpy\\lib\\function_base.py:2535: RuntimeWarning: invalid value encountered in true_divide\n",
      "  c /= stddev[None, :]\n",
      "C:\\Users\\Caroline\\Anaconda3\\envs\\capstone\\lib\\site-packages\\scipy\\stats\\_distn_infrastructure.py:903: RuntimeWarning: invalid value encountered in greater\n",
      "  return (a < x) & (x < b)\n",
      "C:\\Users\\Caroline\\Anaconda3\\envs\\capstone\\lib\\site-packages\\scipy\\stats\\_distn_infrastructure.py:903: RuntimeWarning: invalid value encountered in less\n",
      "  return (a < x) & (x < b)\n",
      "C:\\Users\\Caroline\\Anaconda3\\envs\\capstone\\lib\\site-packages\\scipy\\stats\\_distn_infrastructure.py:1912: RuntimeWarning: invalid value encountered in less_equal\n",
      "  cond2 = cond0 & (x <= _a)\n"
     ]
    },
    {
     "name": "stdout",
     "output_type": "stream",
     "text": [
      "-0.08158372800945382\n"
     ]
    },
    {
     "data": {
      "image/png": "[encoded data removed]",
      "text/plain": [
       "<Figure size 432x288 with 1 Axes>"
      ]
     },
     "metadata": {
      "needs_background": "light"
     },
     "output_type": "display_data"
    }
   ],
   "source": [
    "i = 0\n",
    "avg = 0\n",
    "count = 0\n",
    "arr_b = []\n",
    "arr_f = []\n",
    "while i < biolog.shape[0]:\n",
    "    intersection = (biolog.iloc[i][biolog.iloc[i]!=0].index.intersection(fortyCP.iloc[i][fortyCP.iloc[i]<0].index))\n",
    "    biolog_i = biolog.iloc[i][intersection]\n",
    "    fortyCP_i = fortyCP.iloc[i][intersection]\n",
    "    rank_b = biolog_i.rank()\n",
    "    rank_f = fortyCP_i.rank(ascending = False)\n",
    "    if intersection.shape[0]>1 and not np.isnan(spearmanr(rank_b, rank_f)[0]):\n",
    "        avg+=(spearmanr(rank_b, rank_f)[0])\n",
    "        plt.scatter(rank_b, rank_f, alpha=0.2, c = 'b')\n",
    "        arr_b = np.append(arr_b,rank_b.values)\n",
    "        arr_f = np.append(arr_f,rank_f.values)\n",
    "        count+=1\n",
    "    i+=1\n",
    "avg = avg/count\n",
    "print(avg)\n",
    "x = np.linspace(1, 8, 1000)\n",
    "plt.plot(x,x)\n",
    "plt.xlabel('Experimental ranking')\n",
    "plt.ylabel('Simulated ranking');"
   ]
  },
  {
   "cell_type": "code",
   "execution_count": 9,
   "metadata": {},
   "outputs": [
    {
     "name": "stdout",
     "output_type": "stream",
     "text": [
      "Pearson correlation: 0.464\n",
      "Pearson pval: 0.000000\n"
     ]
    }
   ],
   "source": [
    "Pcorr, Ppval = pearsonr(arr_b, arr_f)\n",
    "print('Pearson correlation: %.3f' % Pcorr)\n",
    "print('Pearson pval: %f' % Ppval)"
   ]
  },
  {
   "cell_type": "code",
   "execution_count": 14,
   "metadata": {},
   "outputs": [
    {
     "data": {
      "image/png": "[encoded data removed]",
      "text/plain": [
       "<Figure size 432x432 with 3 Axes>"
      ]
     },
     "metadata": {
      "needs_background": "light"
     },
     "output_type": "display_data"
    }
   ],
   "source": [
    "hexplot = seaborn.jointplot(arr_b, arr_f, kind = 'hex')\n",
    "hexplot.set_axis_labels('Experimental ranking', 'Simulated ranking');"
   ]
  },
  {
   "cell_type": "markdown",
   "metadata": {},
   "source": [
    "All code below this point is extra/outdated."
   ]
  },
  {
   "cell_type": "code",
   "execution_count": 13,
   "metadata": {},
   "outputs": [],
   "source": [
    "from sklearn.linear_model import LinearRegression\n",
    "regressor = LinearRegression()\n",
    "#regressor.fit(np.concatenate(np.array(arr_b)).reshape(-1,1), np.concatenate(np.array(arr_f)).reshape(-1, 1))\n",
    "#print('slope:', regressor.coef_)\n",
    "#np.array(arr_b)"
   ]
  },
  {
   "cell_type": "code",
   "execution_count": null,
   "metadata": {},
   "outputs": [],
   "source": [
    "#plotting spearman correlation\n",
    "from scipy.stats import spearmanr\n",
    "i = 0\n",
    "arr = [];\n",
    "placeholder = pd.DataFrame(np.zeros((2,55)))\n",
    "while i < fortyCP.shape[0]:\n",
    "    if not np.isnan(spearmanr(rank_b.iloc[i],rank_f.iloc[i])[0]):\n",
    "        arr.append(spearmanr(rank_b.iloc[i],rank_f.iloc[i])[0])\n",
    "    i += 1\n",
    "p = seaborn.stripplot(data=arr)"
   ]
  },
  {
   "cell_type": "code",
   "execution_count": null,
   "metadata": {},
   "outputs": [],
   "source": [
    "biolog.iloc[2][biolog.iloc[2]!=0].index.intersection(fortyCP.iloc[2][fortyCP.iloc[2]!=0].index)"
   ]
  },
  {
   "cell_type": "code",
   "execution_count": null,
   "metadata": {},
   "outputs": [],
   "source": [
    "i = 0\n",
    "avg = 0\n",
    "count = 0\n",
    "while i < biolog.shape[0]:\n",
    "    intersection = (biolog.iloc[i][biolog.iloc[i]!=0].index.intersection(fortyCP.iloc[i][fortyCP.iloc[i]!=0].index))\n",
    "    biolog_i = biolog.iloc[i][intersection]\n",
    "    fortyCP_i = fortyCP.iloc[i][intersection]\n",
    "    rank_b = biolog_i.rank()\n",
    "    rank_f = fortyCP_i.rank()\n",
    "    if intersection.shape[0]>1 and not np.isnan(spearmanr(rank_b, rank_f)[0]):\n",
    "        avg+=(spearmanr(rank_b, rank_f)[0])\n",
    "        count+=1\n",
    "    i+=1\n",
    "avg = avg/count\n",
    "print(avg)"
   ]
  },
  {
   "cell_type": "code",
   "execution_count": null,
   "metadata": {},
   "outputs": [],
   "source": [
    "# plot of zscore(rank_biolog - rank_fba)\n",
    "output = np.subtract(rank_b, rank_f)\n",
    "output_z = output.apply(zscore)\n",
    "p = seaborn.stripplot(data=output_z)"
   ]
  },
  {
   "cell_type": "code",
   "execution_count": null,
   "metadata": {},
   "outputs": [],
   "source": [
    "p = seaborn.stripplot(data=output_z.transpose())\n",
    "p.set_xticklabels(output_z.index, rotation = 70, ha = 'right', size=8);"
   ]
  },
  {
   "cell_type": "code",
   "execution_count": null,
   "metadata": {},
   "outputs": [],
   "source": [
    "output = np.subtract(rank_b, rank_f)\n",
    "fig, ax = plt.subplots()\n",
    "im = ax.imshow(output,cmap='PiYG_r')\n",
    "ax.set_xticks(np.arange(len(intersection)))\n",
    "ax.set_xticklabels(intersection, rotation=90);\n",
    "ax.set_yticks(np.arange(len(biolog_i.index)))\n",
    "ax.set_yticklabels(biolog_i.index);\n",
    "cb = plt.colorbar(im)\n",
    "\n",
    "fig.set_size_inches(15, 15)\n",
    "fig.tight_layout()"
   ]
  },
  {
   "cell_type": "code",
   "execution_count": null,
   "metadata": {},
   "outputs": [],
   "source": [
    "print(output_z)\n",
    "#np.histogram(output)\n",
    "plt.hist(output_z, bins = [-3 ,  -2,  -1,0,1, 2,3]); \n",
    "plt.xlabel('Biolog - pFBA')\n",
    "plt.ylabel('Frequency')\n",
    "plt.title('Histogram of Biolog/pFBA comparison')"
   ]
  },
  {
   "cell_type": "code",
   "execution_count": null,
   "metadata": {},
   "outputs": [],
   "source": [
    "#np.histogram(output)\n",
    "plt.hist(output, bins = [-1. , -0.8, -0.6, -0.4, -0.2,  0. ,  0.2,  0.4,  0.6,  0.8,  1. ]); \n",
    "plt.xlabel('Biolog - pFBA')\n",
    "plt.ylabel('Frequency')\n",
    "plt.title('Histogram of Biolog/pFBA comparison')"
   ]
  }
 ],
 "metadata": {
  "kernelspec": {
   "display_name": "Python (capstone)",
   "language": "python",
   "name": "capstone"
  },
  "language_info": {
   "codemirror_mode": {
    "name": "ipython",
    "version": 3
   },
   "file_extension": ".py",
   "mimetype": "text/x-python",
   "name": "python",
   "nbconvert_exporter": "python",
   "pygments_lexer": "ipython3",
   "version": "3.6.7"
  }
 },
 "nbformat": 4,
 "nbformat_minor": 2
}
