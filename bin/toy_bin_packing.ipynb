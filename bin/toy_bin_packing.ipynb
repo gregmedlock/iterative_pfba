{
 "cells": [
  {
   "cell_type": "code",
   "execution_count": 4,
   "metadata": {},
   "outputs": [],
   "source": [
    "from optlang.cplex_interface import Model, Variable, Constraint, Objective\n",
    "from optlang.symbolics import add\n",
    "import pandas as pd"
   ]
  },
  {
   "cell_type": "code",
   "execution_count": 21,
   "metadata": {},
   "outputs": [],
   "source": [
    "# In this toy example, there are 2 bins with identical dimensions X, Y, and Z.\n",
    "# There are 5 items, each of which can be packed in to either of the two bins\n",
    "bins = 2\n",
    "\n",
    "items = {'a':{'u':10, 'v':0.5, 'w':0.25, 'x':10,'y':10,'z':0},\n",
    "        'b':{'u':0.25, 'v':5, 'w':5, 'x':-5,'y':0,'z':0},\n",
    "        'c':{'u':0, 'v':10, 'w':8, 'x':-2,'y':0,'z':0},\n",
    "        'd':{'u':0.25, 'v':0.5, 'w':0.25, 'x':7,'y':0,'z':0},\n",
    "        'e':{'u':5, 'v':0, 'w':0, 'x':0,'y':0,'z':0}}\n",
    "#items = pd.DataFrame(items).T.divide(pd.DataFrame(items).T.max())\n",
    "#items = items.T.to_dict()"
   ]
  },
  {
   "cell_type": "code",
   "execution_count": 41,
   "metadata": {},
   "outputs": [],
   "source": [
    "# We need to describe the amount of space available in X, Y, and Z\n",
    "x_init = 5\n",
    "y_init = 5\n",
    "z_init = 5\n",
    "\n",
    "# our binary variables are the presence and absence of each item in each bin. We need one variable per item per bin to describe this.\n",
    "item_a_bin1 = Variable('a_bin1', lb=0, ub = 1, type='integer')\n",
    "item_a_bin2 = Variable('a_bin2', lb=0, ub = 1, type='integer')\n",
    "\n",
    "item_b_bin1 = Variable('b_bin1', lb=0, ub = 1, type='integer')\n",
    "item_b_bin2 = Variable('b_bin2', lb=0, ub = 1, type='integer')\n",
    "\n",
    "item_c_bin1 = Variable('c_bin1', lb=0, ub = 1, type='integer')\n",
    "item_c_bin2 = Variable('c_bin2', lb=0, ub = 1, type='integer')\n",
    "\n",
    "item_d_bin1 = Variable('d_bin1', lb=0, ub = 1, type='integer')\n",
    "item_d_bin2 = Variable('d_bin2', lb=0, ub = 1, type='integer')\n",
    "\n",
    "item_e_bin1 = Variable('e_bin1', lb=0, ub = 1, type='integer')\n",
    "item_e_bin2 = Variable('e_bin2', lb=0, ub = 1, type='integer')\n",
    "\n",
    "# We need one constraint for each item to require that an item is placed in exactly one bin.\n",
    "item_a_placement = Constraint(item_a_bin1 + item_a_bin2, lb = 1, ub = 1)\n",
    "item_b_placement = Constraint(item_b_bin1 + item_b_bin2, lb = 1, ub = 1)\n",
    "item_c_placement = Constraint(item_c_bin1 + item_c_bin2, lb = 1, ub = 1)\n",
    "item_d_placement = Constraint(item_d_bin1 + item_d_bin2, lb = 1, ub = 1)\n",
    "item_e_placement = Constraint(item_e_bin1 + item_e_bin2, lb = 1, ub = 1)\n",
    "\n",
    "# We need a variable for each bin, for each dimension, summing the costs of items placed there\n",
    "# u_costs_bin1 = item_a_bin1*items['a']['u']*item_b_bin1*items['b']['u']*item_c_bin1*items['c']['u']*item_d_bin1*items['d']['u']*item_e_bin1*items['e']['u']\n",
    "# u_costs_bin2 = item_a_bin2*items['a']['u']*item_b_bin2*items['b']['u']*item_c_bin2*items['c']['u']*item_d_bin2*items['d']['u']*item_e_bin2*items['e']['u']\n",
    "# v_costs_bin1 = item_a_bin1*items['a']['v']*item_b_bin1*items['b']['v']*item_c_bin1*items['c']['v']*item_d_bin1*items['d']['v']*item_e_bin1*items['e']['v']\n",
    "# v_costs_bin2 = item_a_bin2*items['a']['v']*item_b_bin2*items['b']['v']*item_c_bin2*items['c']['v']*item_d_bin2*items['d']['v']*item_e_bin2*items['e']['v']\n",
    "# w_costs_bin1 = item_a_bin1*items['a']['w']*item_b_bin1*items['b']['w']*item_c_bin1*items['c']['w']*item_d_bin1*items['d']['w']*item_e_bin1*items['e']['w']\n",
    "# w_costs_bin2 = item_a_bin2*items['a']['w']*item_b_bin2*items['b']['w']*item_c_bin2*items['c']['w']*item_d_bin2*items['d']['w']*item_e_bin2*items['e']['w']\n",
    "x_costs_bin1 = add([item_a_bin1*items['a']['x'],item_b_bin1*items['b']['x'],item_c_bin1*items['c']['x'],item_d_bin1*items['d']['x'],item_e_bin1*items['e']['x']])\n",
    "x_costs_bin2 = add([item_a_bin2*items['a']['x'],item_b_bin2*items['b']['x'],item_c_bin2*items['c']['x'],item_d_bin2*items['d']['x'],item_e_bin2*items['e']['x']])\n",
    "y_costs_bin1 = add([item_a_bin1*items['a']['y'],item_b_bin1*items['b']['y'],item_c_bin1*items['c']['y'],item_d_bin1*items['d']['y'],item_e_bin1*items['e']['y']])\n",
    "y_costs_bin2 = add([item_a_bin2*items['a']['y'],item_b_bin2*items['b']['y'],item_c_bin2*items['c']['y'],item_d_bin2*items['d']['y'],item_e_bin2*items['e']['y']])\n",
    "z_costs_bin1 = add([item_a_bin1*items['a']['z'],item_b_bin1*items['b']['z'],item_c_bin1*items['c']['z'],item_d_bin1*items['d']['z'],item_e_bin1*items['e']['z']])\n",
    "z_costs_bin2 = add([item_a_bin2*items['a']['z'],item_b_bin2*items['b']['z'],item_c_bin2*items['c']['z'],item_d_bin2*items['d']['z'],item_e_bin2*items['e']['z']])\n",
    "\n",
    "# We need to add constraints that force the space available in a dimension to never go below 0\n",
    "# x_space_bin1 = Constraint(x_init - x_costs_bin1, lb=0)\n",
    "# x_space_bin2 = Constraint(x_init - x_costs_bin2, lb=0)\n",
    "# y_space_bin1 = Constraint(y_init - y_costs_bin1, lb=0)\n",
    "# y_space_bin2 = Constraint(y_init - y_costs_bin2, lb=0)\n",
    "# z_space_bin1 = Constraint(z_init - z_costs_bin1, lb=0)\n",
    "# z_space_bin2 = Constraint(z_init - z_costs_bin2, lb=0)\n",
    "\n",
    "\n",
    "\n",
    "\n",
    "# we need a variable for each dimension that computes the costs within\n",
    "total_cost = Variable('total_cost')\n",
    "cost_constr = Constraint(total_cost - (add([x_costs_bin1**2,x_costs_bin2**2,\n",
    "                                           y_costs_bin1**2,y_costs_bin2**2,\n",
    "                                           z_costs_bin1**2,z_costs_bin2**2])), lb=0, ub=0)\n",
    "\n",
    "# [u_costs_bin1,u_costs_bin2,\n",
    "#                                           v_costs_bin1,v_costs_bin2,\n",
    "#                                           w_costs_bin1,w_costs_bin2,\n",
    "# difference=10\n",
    "# dummy_variable = Variable('dummy', lb=0, ub=None)\n",
    "# # The following constraints enforce variable > expression and\n",
    "# # variable > -expression\n",
    "# name = 'dummy_abs'\n",
    "# upper_constraint = Constraint(total_cost - dummy_variable,\n",
    "#                                             ub=difference,\n",
    "#                                             name=\"abs_pos_\" + name),\n",
    "# lower_constraint = Constraint(total_cost + dummy_variable,\n",
    "#                                             lb=difference,\n",
    "#                                             name=\"abs_neg_\" + name)\n",
    "\n",
    "# set the objective to minimize the total cost\n",
    "cost_min = Objective(add([x_costs_bin1**2,x_costs_bin2**2,\n",
    "                                           y_costs_bin1**2,y_costs_bin2**2,\n",
    "                                           z_costs_bin1**2,z_costs_bin2**2]), direction='min')\n",
    "\n",
    "model = Model(name='toy bin')\n",
    "model.objective = cost_min\n",
    "model.add([item_a_placement,item_b_placement,item_c_placement,item_d_placement,item_e_placement])#,lower_constraint,upper_constraint])#,cost_constr])"
   ]
  },
  {
   "cell_type": "code",
   "execution_count": 47,
   "metadata": {},
   "outputs": [
    {
     "data": {
      "text/plain": [
       "100*a_bin1**2 + 100*a_bin2**2 + (10*a_bin1 - 5*b_bin1 - 2*c_bin1 + 7*d_bin1)**2 + (10*a_bin2 - 5*b_bin2 - 2*c_bin2 + 7*d_bin2)**2"
      ]
     },
     "execution_count": 47,
     "metadata": {},
     "output_type": "execute_result"
    }
   ],
   "source": [
    "add([x_costs_bin1**2,x_costs_bin2**2,\n",
    "                                           y_costs_bin1**2,y_costs_bin2**2,\n",
    "                                           z_costs_bin1**2,z_costs_bin2**2])"
   ]
  },
  {
   "cell_type": "code",
   "execution_count": null,
   "metadata": {},
   "outputs": [],
   "source": []
  },
  {
   "cell_type": "code",
   "execution_count": 39,
   "metadata": {},
   "outputs": [],
   "source": [
    "sol = model.optimize()"
   ]
  },
  {
   "cell_type": "code",
   "execution_count": 40,
   "metadata": {},
   "outputs": [
    {
     "name": "stdout",
     "output_type": "stream",
     "text": [
      "150.0\n",
      "a_bin1 = 0.0\n",
      "a_bin2 = 1.0\n",
      "b_bin1 = 0.0\n",
      "b_bin2 = 1.0\n",
      "c_bin1 = 1.0\n",
      "c_bin2 = 0.0\n",
      "d_bin1 = 1.0\n",
      "d_bin2 = 0.0\n",
      "e_bin2 = 1.0\n",
      "e_bin1 = -0.0\n"
     ]
    }
   ],
   "source": [
    "print(model.objective.value)\n",
    "for var_name, var in model.variables.items():\n",
    "    print(var_name, \"=\", var.primal)"
   ]
  },
  {
   "cell_type": "code",
   "execution_count": null,
   "metadata": {},
   "outputs": [],
   "source": [
    "total_cost = Variable('total_cost')\n",
    "# cost_constr = Constraint(total_cost - add([x_costs_bin1,x_costs_bin2,\n",
    "#                            y_costs_bin1,y_costs_bin2,\n",
    "#                            z_costs_bin1,z_costs_bin2]), lb=0, ub=0)\n",
    "\n",
    "\n",
    "\n",
    "# set the objective to minimize the total cost\n",
    "cost_min = Objective(total_cost, direction='min')\n",
    "\n",
    "model = Model(name='toy bin')\n",
    "model.objective = cost_min"
   ]
  },
  {
   "cell_type": "code",
   "execution_count": null,
   "metadata": {},
   "outputs": [],
   "source": []
  }
 ],
 "metadata": {
  "kernelspec": {
   "display_name": "go_pacm",
   "language": "python",
   "name": "go_pacm"
  },
  "language_info": {
   "codemirror_mode": {
    "name": "ipython",
    "version": 3
   },
   "file_extension": ".py",
   "mimetype": "text/x-python",
   "name": "python",
   "nbconvert_exporter": "python",
   "pygments_lexer": "ipython3",
   "version": "3.7.3"
  }
 },
 "nbformat": 4,
 "nbformat_minor": 4
}
