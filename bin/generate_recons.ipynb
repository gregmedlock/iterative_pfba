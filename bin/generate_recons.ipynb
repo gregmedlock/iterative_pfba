{
 "cells": [
  {
   "cell_type": "code",
   "execution_count": 2,
   "metadata": {},
   "outputs": [],
   "source": [
    "import mackinac\n",
    "import cobra\n",
    "import pandas as pd\n",
    "import json\n",
    "import os\n",
    "import numpy as np"
   ]
  },
  {
   "cell_type": "code",
   "execution_count": 3,
   "metadata": {},
   "outputs": [],
   "source": [
    "# load ID's for each organisms genome\n",
    "id_table = pd.read_table('../data/study_strain_subset.tsv',sep='\\t',dtype=str)\n",
    "id_table = id_table.replace(np.nan, '', regex=True)\n",
    "species_to_id = dict(zip(id_table[\"designation in screen\"],id_table[\"PATRIC genome ID\"]))"
   ]
  },
  {
   "cell_type": "code",
   "execution_count": 4,
   "metadata": {},
   "outputs": [
    {
     "data": {
      "text/plain": [
       "{'B. clarus': '762984.10',\n",
       " 'B. longum subsp. longum': '',\n",
       " 'B. vulgatus HM-720': '997891.3',\n",
       " 'C. saccharolyticum': '610130.3',\n",
       " 'L. lactis': '272623.7',\n",
       " 'L. plantarum': '220668.9',\n",
       " 'P. distasonis': '435591.13',\n",
       " 'P. merdae': '411477.4',\n",
       " 'R. gnavus': '411470.41'}"
      ]
     },
     "execution_count": 4,
     "metadata": {},
     "output_type": "execute_result"
    }
   ],
   "source": [
    "species_to_id"
   ]
  },
  {
   "cell_type": "code",
   "execution_count": null,
   "metadata": {},
   "outputs": [],
   "source": []
  },
  {
   "cell_type": "code",
   "execution_count": 5,
   "metadata": {},
   "outputs": [
    {
     "name": "stdin",
     "output_type": "stream",
     "text": [
      "patric password:  ···············\n"
     ]
    },
    {
     "data": {
      "text/plain": [
       "'gregmedlock_seed@patricbrc.org'"
      ]
     },
     "execution_count": 5,
     "metadata": {},
     "output_type": "execute_result"
    }
   ],
   "source": [
    "mackinac.get_token('gregmedlock_seed')\n"
   ]
  },
  {
   "cell_type": "code",
   "execution_count": null,
   "metadata": {},
   "outputs": [],
   "source": [
    "# grab and save a universal model to be used later for gapfilling. This is a public template available in Mike Mundy's workspace.\n",
    "# The template says \"gramneg\", but there is no difference between the g+ and g- templates other than biomass composition,\n",
    "# which will not be used during gapfilling (the GENREs will already have their own biomass function).\n",
    "gramneg = mackinac.create_universal_model('/mmundy/public/modelsupport/templates/MicrobialNegativeResolved.modeltemplate')\n",
    "cobra.io.save_json_model(gramneg,'../data/universal_mundy.json')"
   ]
  },
  {
   "cell_type": "code",
   "execution_count": 7,
   "metadata": {},
   "outputs": [
    {
     "name": "stdout",
     "output_type": "stream",
     "text": [
      "Reconstructing GENRE for P. distasonis\n"
     ]
    },
    {
     "ename": "KeyboardInterrupt",
     "evalue": "",
     "output_type": "error",
     "traceback": [
      "\u001b[0;31m---------------------------------------------------------------------------\u001b[0m",
      "\u001b[0;31mKeyboardInterrupt\u001b[0m                         Traceback (most recent call last)",
      "\u001b[0;32m<ipython-input-7-eb1a325b6f0c>\u001b[0m in \u001b[0;36m<module>\u001b[0;34m\u001b[0m\n\u001b[1;32m     10\u001b[0m         \u001b[0;31m# reconstruct model; function returns a dictionary with reconstruction info, NOT the model\u001b[0m\u001b[0;34m\u001b[0m\u001b[0;34m\u001b[0m\u001b[0;34m\u001b[0m\u001b[0m\n\u001b[1;32m     11\u001b[0m         \u001b[0mprint\u001b[0m\u001b[0;34m(\u001b[0m\u001b[0;34m\"Reconstructing GENRE for \"\u001b[0m \u001b[0;34m+\u001b[0m \u001b[0mspecies\u001b[0m\u001b[0;34m)\u001b[0m\u001b[0;34m\u001b[0m\u001b[0;34m\u001b[0m\u001b[0m\n\u001b[0;32m---> 12\u001b[0;31m         \u001b[0mrecon_info\u001b[0m \u001b[0;34m=\u001b[0m \u001b[0mmackinac\u001b[0m\u001b[0;34m.\u001b[0m\u001b[0mcreate_patric_model\u001b[0m\u001b[0;34m(\u001b[0m\u001b[0mspecies_id\u001b[0m\u001b[0;34m,\u001b[0m\u001b[0mspecies\u001b[0m\u001b[0;34m)\u001b[0m\u001b[0;34m\u001b[0m\u001b[0;34m\u001b[0m\u001b[0m\n\u001b[0m\u001b[1;32m     13\u001b[0m         \u001b[0mname_to_recon_info\u001b[0m\u001b[0;34m[\u001b[0m\u001b[0mspecies\u001b[0m\u001b[0;34m]\u001b[0m \u001b[0;34m=\u001b[0m \u001b[0mrecon_info\u001b[0m\u001b[0;34m\u001b[0m\u001b[0;34m\u001b[0m\u001b[0m\n\u001b[1;32m     14\u001b[0m         \u001b[0;31m# Get the reactions contained in the gapfill solution. This is on complete media\u001b[0m\u001b[0;34m\u001b[0m\u001b[0;34m\u001b[0m\u001b[0;34m\u001b[0m\u001b[0m\n",
      "\u001b[0;32m~/Documents/projects/mackinac/mackinac/patric.py\u001b[0m in \u001b[0;36mcreate_patric_model\u001b[0;34m(genome_id, model_id, media_reference, template_reference, output_folder)\u001b[0m\n\u001b[1;32m    128\u001b[0m         \u001b[0mtask\u001b[0m \u001b[0;34m=\u001b[0m \u001b[0mpatric_client\u001b[0m\u001b[0;34m.\u001b[0m\u001b[0mcall\u001b[0m\u001b[0;34m(\u001b[0m\u001b[0;34m'start_app'\u001b[0m\u001b[0;34m,\u001b[0m \u001b[0;34m[\u001b[0m\u001b[0;34m'ModelReconstruction'\u001b[0m\u001b[0;34m,\u001b[0m \u001b[0mparams\u001b[0m\u001b[0;34m,\u001b[0m \u001b[0mparams\u001b[0m\u001b[0;34m[\u001b[0m\u001b[0;34m'output_path'\u001b[0m\u001b[0;34m]\u001b[0m\u001b[0;34m]\u001b[0m\u001b[0;34m)\u001b[0m\u001b[0;34m\u001b[0m\u001b[0;34m\u001b[0m\u001b[0m\n\u001b[1;32m    129\u001b[0m         \u001b[0mLOGGER\u001b[0m\u001b[0;34m.\u001b[0m\u001b[0minfo\u001b[0m\u001b[0;34m(\u001b[0m\u001b[0;34m'Started task %s to run model reconstruction for \"%s\"'\u001b[0m\u001b[0;34m,\u001b[0m \u001b[0mtask\u001b[0m\u001b[0;34m[\u001b[0m\u001b[0;34m'id'\u001b[0m\u001b[0;34m]\u001b[0m\u001b[0;34m,\u001b[0m \u001b[0mparams\u001b[0m\u001b[0;34m[\u001b[0m\u001b[0;34m'genome'\u001b[0m\u001b[0;34m]\u001b[0m\u001b[0;34m)\u001b[0m\u001b[0;34m\u001b[0m\u001b[0;34m\u001b[0m\u001b[0m\n\u001b[0;32m--> 130\u001b[0;31m         \u001b[0m_wait_for_patric_task\u001b[0m\u001b[0;34m(\u001b[0m\u001b[0mtask\u001b[0m\u001b[0;34m[\u001b[0m\u001b[0;34m'id'\u001b[0m\u001b[0;34m]\u001b[0m\u001b[0;34m)\u001b[0m\u001b[0;34m\u001b[0m\u001b[0;34m\u001b[0m\u001b[0m\n\u001b[0m\u001b[1;32m    131\u001b[0m     \u001b[0;32mexcept\u001b[0m \u001b[0mServerError\u001b[0m \u001b[0;32mas\u001b[0m \u001b[0me\u001b[0m\u001b[0;34m:\u001b[0m\u001b[0;34m\u001b[0m\u001b[0;34m\u001b[0m\u001b[0m\n\u001b[1;32m    132\u001b[0m         \u001b[0mreferences\u001b[0m \u001b[0;34m=\u001b[0m \u001b[0;32mNone\u001b[0m\u001b[0;34m\u001b[0m\u001b[0;34m\u001b[0m\u001b[0m\n",
      "\u001b[0;32m~/Documents/projects/mackinac/mackinac/patric.py\u001b[0m in \u001b[0;36m_wait_for_patric_task\u001b[0;34m(task_id)\u001b[0m\n\u001b[1;32m    432\u001b[0m                 \u001b[0mdone\u001b[0m \u001b[0;34m=\u001b[0m \u001b[0;32mTrue\u001b[0m\u001b[0;34m\u001b[0m\u001b[0;34m\u001b[0m\u001b[0m\n\u001b[1;32m    433\u001b[0m             \u001b[0;32melse\u001b[0m\u001b[0;34m:\u001b[0m\u001b[0;34m\u001b[0m\u001b[0;34m\u001b[0m\u001b[0m\n\u001b[0;32m--> 434\u001b[0;31m                 \u001b[0msleep\u001b[0m\u001b[0;34m(\u001b[0m\u001b[0;36m3\u001b[0m\u001b[0;34m)\u001b[0m\u001b[0;34m\u001b[0m\u001b[0;34m\u001b[0m\u001b[0m\n\u001b[0m\u001b[1;32m    435\u001b[0m         \u001b[0;32melse\u001b[0m\u001b[0;34m:\u001b[0m\u001b[0;34m\u001b[0m\u001b[0;34m\u001b[0m\u001b[0m\n\u001b[1;32m    436\u001b[0m             \u001b[0;32mraise\u001b[0m \u001b[0mJobError\u001b[0m\u001b[0;34m(\u001b[0m\u001b[0;34m'Task {0} was not found'\u001b[0m\u001b[0;34m.\u001b[0m\u001b[0mformat\u001b[0m\u001b[0;34m(\u001b[0m\u001b[0mtask_id\u001b[0m\u001b[0;34m)\u001b[0m\u001b[0;34m)\u001b[0m\u001b[0;34m\u001b[0m\u001b[0;34m\u001b[0m\u001b[0m\n",
      "\u001b[0;31mKeyboardInterrupt\u001b[0m: "
     ]
    }
   ],
   "source": [
    "# save id's and both names in dictionary\n",
    "name_to_recon_info = {}\n",
    "name_to_gapfill_solution = {}\n",
    "for species in species_to_id.keys():\n",
    "    # Check for an existing GENRE and make sure there is a PATRIC ID for the strain--\n",
    "    # if there is no PATRIC ID, the dictionary will have an empty string for that strain.\n",
    "    if species+'.json' not in os.listdir('../data/modelseed_models') and species_to_id[species]:\n",
    "        species_id = species_to_id[species]\n",
    "\n",
    "        # reconstruct model; function returns a dictionary with reconstruction info, NOT the model\n",
    "        print(\"Reconstructing GENRE for \" + species)\n",
    "        recon_info = mackinac.create_patric_model(species_id,species)\n",
    "        name_to_recon_info[species] = recon_info\n",
    "        # Get the reactions contained in the gapfill solution. This is on complete media\n",
    "        name_to_gapfill_solution[species] = mackinac.get_patric_gapfill_solutions(species)[0]\n",
    "        # convert to a cobra model\n",
    "        model = mackinac.create_cobra_model_from_patric_model(species)\n",
    "        # Save model in json format using patric_id\n",
    "        cobra.io.save_json_model(model, '../data/modelseed_models/'+species+'.json')\n",
    "\n",
    "# save conversion dict for id:original_name:SEED_name mapping\n",
    "with open('../data/patric_recon_info.json','w') as jsonfile:\n",
    "    json.dump(name_to_recon_info,jsonfile)\n",
    "    \n",
    "# save the gapfill solutions\n",
    "with open('../data/patric_gapfill_solutions.json','w') as jsonfile:\n",
    "    json.dump(name_to_gapfill_solution,jsonfile)\n",
    "    "
   ]
  },
  {
   "cell_type": "code",
   "execution_count": null,
   "metadata": {},
   "outputs": [],
   "source": []
  }
 ],
 "metadata": {
  "kernelspec": {
   "display_name": "go_pacm",
   "language": "python",
   "name": "go_pacm"
  },
  "language_info": {
   "codemirror_mode": {
    "name": "ipython",
    "version": 3
   },
   "file_extension": ".py",
   "mimetype": "text/x-python",
   "name": "python",
   "nbconvert_exporter": "python",
   "pygments_lexer": "ipython3",
   "version": "3.7.3"
  }
 },
 "nbformat": 4,
 "nbformat_minor": 4
}
