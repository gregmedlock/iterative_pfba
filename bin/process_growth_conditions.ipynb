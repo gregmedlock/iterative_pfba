{
 "cells": [
  {
   "cell_type": "code",
   "execution_count": 9,
   "metadata": {},
   "outputs": [],
   "source": [
    "import pandas as pd\n",
    "import re"
   ]
  },
  {
   "cell_type": "code",
   "execution_count": null,
   "metadata": {},
   "outputs": [],
   "source": []
  },
  {
   "cell_type": "code",
   "execution_count": 84,
   "metadata": {},
   "outputs": [],
   "source": [
    "tramontano_data_file = '../data/tramontano2018/41564_2018_123_MOESM3_ESM.xlsx'\n",
    "strain_table = pd.read_excel(tramontano_data_file, \n",
    "                             sheet_name = 'S1. Selected gut bacteria')\n",
    "media_table = pd.read_excel(tramontano_data_file, \n",
    "                             sheet_name = 'S2. Media composition',\n",
    "                             skiprows = 2)\n",
    "media_conditions = media_table.columns\n",
    "media_conditions = [cond for cond in media_conditions if cond not in ['Class','Compound']]\n",
    "media_table = media_table.fillna(0) # replace NA with 0\n",
    "annotated_growth_data = pd.read_excel(tramontano_data_file,\n",
    "                                      sheet_name = 'S3. Annotated data',\n",
    "                                      skiprows = 2)\n",
    "# Load the growth matrix. When growth was observed (based on thresholding),\n",
    "# mean and (stdev) are included. When growth was not observed, 0 was entered\n",
    "growth_matrix = pd.read_excel(tramontano_data_file,\n",
    "                                      sheet_name = 'S4. Growth matrix',\n",
    "                                      index_col=0)\n",
    "# Load sample size sheet. Really unclear what the format is here. Looks like\n",
    "# # of biological replicates in first and second batch, but not sure\n",
    "# what the number in parentheses means.\n",
    "sample_sizes = pd.read_excel(tramontano_data_file,\n",
    "                                      sheet_name = 'S5. Sample sizes',\n",
    "                                      index_col=0)\n",
    "\n",
    "# additional sheets from the data aren't needed"
   ]
  },
  {
   "cell_type": "code",
   "execution_count": 86,
   "metadata": {},
   "outputs": [
    {
     "data": {
      "text/plain": [
       "Index(['A. muciniphila', 'A. odontolyticus', 'A. putredinis', 'A. shahii',\n",
       "       'B. adolescentis', 'B. animalis subsp. lactis BI-07',\n",
       "       'B. animalis subsp. lactis BL-04', 'B. caccae', 'B. clarus',\n",
       "       'B. coprocola', 'B. crossotus', 'B. dorei', 'B. eggerthii',\n",
       "       'B. fragilis', 'B. fragilis enterotoxigenic', 'B. fragilis HM-20',\n",
       "       'B. fragilis HM-709', 'B. fragilis HM-710', 'B. fragilis HM-711',\n",
       "       'B. fragilis HM-712', 'B. fragilis HM-713', 'B. fragilis HM-714',\n",
       "       'B. hansenii', 'B. longum subsp. infantis', 'B. longum subsp. longum',\n",
       "       'B. obeum', 'B. ovatus', 'B. stercoris', 'B. thetaiotaomicron',\n",
       "       'B. uniformis', 'B. uniformis HM-715', 'B. uniformis HM-716',\n",
       "       'B. vulgatus', 'B. vulgatus HM-720', 'B. wadsworthia',\n",
       "       'B. xylanisolvens', 'C. aerofaciens', 'C. bolteae', 'C. catus',\n",
       "       'C. comes', 'C. leptum', 'C. perfringens C36', 'C. perfringens S107',\n",
       "       'C. ramosum', 'C. saccharolyticum', 'D. formicigenerans', 'D. piger',\n",
       "       'E. coli CFT073', 'E. coli E2348/69', 'E. coli ED1a', 'E. coli H10407',\n",
       "       'E. coli HM605', 'E. coli IAI1', 'E. coli UTI89', 'E. eligens',\n",
       "       'E. lenta', 'E. limosum', 'E. rectale', 'E. siraeum',\n",
       "       'F. nucleatum subsp. animalis', 'F. nucleatum subsp. nucleatum',\n",
       "       'F. nucleatum subsp. vincentii', 'H. parainfluenzae', 'L. acidophilus',\n",
       "       'L. delbrueckii subsp. delbrueckii', 'L. fermentum', 'L. gasseri',\n",
       "       'L. lactis', 'L. paracasei', 'L. plantarum', 'L. ruminis',\n",
       "       'L. sakei subsp. sakei', 'L. salivarius', 'L. vaginalis',\n",
       "       'O. splanchnicus', 'P. capillosus', 'P. copri', 'P. difficile',\n",
       "       'P. distasonis', 'P. melaninogenica', 'P. merdae', 'R. bromii',\n",
       "       'R. gnavus', 'R. hominis', 'R. intestinalis', 'R. torques',\n",
       "       'S. flexneri', 'S. parasanguinis', 'S. salivarius', 'S. sonnei',\n",
       "       'S. typhimurium ATCC14028', 'S. typhimurium LT2', 'V. cholerae A1552',\n",
       "       'V. cholerae N16961', 'V. parvula', 'Y. pseudotuberculosis'],\n",
       "      dtype='object', name='designation in screen')"
      ]
     },
     "execution_count": 86,
     "metadata": {},
     "output_type": "execute_result"
    }
   ],
   "source": [
    "growth_matrix.index"
   ]
  },
  {
   "cell_type": "code",
   "execution_count": 87,
   "metadata": {},
   "outputs": [],
   "source": [
    "study_organisms = ['B. longum subsp. infantis',\n",
    "                  'B. longum subsp. longum',\n",
    "                  'R. gnavus',\n",
    "                  'C. saccharolyticum',\n",
    "                  'L. plantarum',\n",
    "                  'L. lactis',\n",
    "                  'B. vulgatus HM-720',\n",
    "                  'B. clarus',\n",
    "                  'P. merdae',\n",
    "                  'P. distasonis']"
   ]
  },
  {
   "cell_type": "code",
   "execution_count": 62,
   "metadata": {},
   "outputs": [],
   "source": [
    "# may want to do some cleaning of the media table at a later time. Difficult to parse w/ g/mg/ug/ml\n",
    "# units dispersed throughout the dataframe\n",
    "\n",
    "media_table = media_table.fillna(0) # replace NA with 0\n",
    "# conditions_only = media_table[media_conditions]\n",
    "\n",
    "# for condition in media_conditions:\n",
    "#     condition_series = conditions_only[condition]\n",
    "#     condition_series.str.find('g')\n",
    "# #conditions_only.find\n",
    "\n",
    "# # convert grams to micrograms\n",
    "# media_table = media_table.replace(to_replace=r'\\s[g]', value=r'000000', regex=True)\n",
    "# # convert mg to micrograms\n",
    "# media_table = media_table.replace(to_replace=r'\\s[mg]', value='000', regex=True)\n",
    "# # strip microgram label\n",
    "# media_table = media_table.replace(to_replace=r'\\s[µg]', value='', regex=True)\n",
    "# # convert masses from string to numeric"
   ]
  },
  {
   "cell_type": "code",
   "execution_count": 97,
   "metadata": {},
   "outputs": [
    {
     "data": {
      "text/plain": [
       "GMM      10\n",
       "BHI++    10\n",
       "WCA      10\n",
       "mGAM      9\n",
       "M1        3\n",
       "M2        8\n",
       "M3        8\n",
       "M4        7\n",
       "M5        9\n",
       "M7        7\n",
       "M8       10\n",
       "M9        0\n",
       "M10       5\n",
       "M11       9\n",
       "M13       4\n",
       "M14       4\n",
       "M15A      4\n",
       "M15B      4\n",
       "M16       4\n",
       "dtype: int64"
      ]
     },
     "execution_count": 97,
     "metadata": {},
     "output_type": "execute_result"
    }
   ],
   "source": [
    "# which conditions had the most positive growth for these 10 species?\n",
    "(growth_matrix.loc[study_organisms] != 0).sum()"
   ]
  },
  {
   "cell_type": "code",
   "execution_count": null,
   "metadata": {},
   "outputs": [],
   "source": []
  },
  {
   "cell_type": "code",
   "execution_count": 91,
   "metadata": {},
   "outputs": [
    {
     "data": {
      "text/plain": [
       "{'Amino acids',\n",
       " 'Buffer compounds',\n",
       " 'Nucleotids',\n",
       " 'Others',\n",
       " 'SCFA',\n",
       " 'Salts & Minerals',\n",
       " 'Sugar',\n",
       " 'Vitamins & Antioxidants'}"
      ]
     },
     "execution_count": 91,
     "metadata": {},
     "output_type": "execute_result"
    }
   ],
   "source": [
    "# GMM, BHI++, WCA, and mGAM are the rich media used (the rest are defined).\n",
    "# all other media are the only ones present in the media_table."
   ]
  },
  {
   "cell_type": "code",
   "execution_count": 92,
   "metadata": {},
   "outputs": [
    {
     "data": {
      "text/plain": [
       "Index(['Class', 'Compound', 'M1: GMM', 'M2: LAB', 'M3: GMM+LAB',\n",
       "       'M4: GMM+LAB low M/V', 'M5: GMM+LAB exclude SCFA',\n",
       "       'M7: GMM+LAB only monosacharides', 'M8: GMM+LAB plus Mucin',\n",
       "       'M9: GMM+LAB only Mucin', 'M10: GMM+LAB 10% aminoacids',\n",
       "       'M11: GMM+LAB excluding aromatic AA', 'M13: B. thetaiotaomicron MM',\n",
       "       'M14: C. perfiringens MM', 'M15A: E. coli MM1', 'M15B: E. coli MM2',\n",
       "       'M16: V. parvula defined medium'],\n",
       "      dtype='object')"
      ]
     },
     "execution_count": 92,
     "metadata": {},
     "output_type": "execute_result"
    }
   ],
   "source": [
    "media_table.columns"
   ]
  },
  {
   "cell_type": "code",
   "execution_count": 94,
   "metadata": {},
   "outputs": [
    {
     "data": {
      "text/plain": [
       "Index(['GMM', 'BHI++', 'WCA', 'mGAM', 'M1', 'M2', 'M3', 'M4', 'M5', 'M7', 'M8',\n",
       "       'M9', 'M10', 'M11', 'M13', 'M14', 'M15A', 'M15B', 'M16'],\n",
       "      dtype='object')"
      ]
     },
     "execution_count": 94,
     "metadata": {},
     "output_type": "execute_result"
    }
   ],
   "source": [
    "growth_matrix.columns"
   ]
  }
 ],
 "metadata": {
  "kernelspec": {
   "display_name": "go_pacm",
   "language": "python",
   "name": "go_pacm"
  },
  "language_info": {
   "codemirror_mode": {
    "name": "ipython",
    "version": 3
   },
   "file_extension": ".py",
   "mimetype": "text/x-python",
   "name": "python",
   "nbconvert_exporter": "python",
   "pygments_lexer": "ipython3",
   "version": "3.6.5"
  }
 },
 "nbformat": 4,
 "nbformat_minor": 2
}
