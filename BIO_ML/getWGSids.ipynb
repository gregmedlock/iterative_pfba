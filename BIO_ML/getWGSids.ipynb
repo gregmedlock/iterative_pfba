{
 "cells": [
  {
   "cell_type": "code",
   "execution_count": 1,
   "metadata": {},
   "outputs": [],
   "source": [
    "import csv\n",
    "#import pandas as pd"
   ]
  },
  {
   "cell_type": "code",
   "execution_count": 2,
   "metadata": {},
   "outputs": [],
   "source": [
    "# load WGS ids from table for each organisms genome\n",
    "filename = 'C:/Users/lilym/Box/Capstone/BIO_ML/Biosample_AssemblyDetails.txt'\n",
    "wgs_lines = open(filename).read().splitlines()\n",
    "wgs_ids=[]\n",
    "taxonomy=[]\n",
    "speciesNames=[]\n",
    "for i in range(2,len(wgs_lines)):\n",
    "    line = wgs_lines[i].split('\\t')\n",
    "    wgs_ids.append(line[2])\n",
    "    taxonomy.append(line[3])\n",
    "    speciesNames.append(line[5])\n"
   ]
  },
  {
   "cell_type": "code",
   "execution_count": 3,
   "metadata": {},
   "outputs": [],
   "source": [
    "# modify wgs ids\n",
    "for i in range(len(wgs_ids)):\n",
    "    x = wgs_ids[i]\n",
    "    wgs_ids[i] = x[:5]+str(1)+x[6:]"
   ]
  },
  {
   "cell_type": "code",
   "execution_count": 4,
   "metadata": {},
   "outputs": [],
   "source": [
    "genomeIDs=[]\n",
    "genomeIDs_not_found = []\n",
    "filename = \"C:/Users/lilym/Box/Capstone/BIO_ML/genomeIDS_v3.csv\"\n",
    "\n",
    "with open(filename,\"w\") as write_csv:\n",
    "    \n",
    "    wgs_writer = csv.writer(write_csv, delimiter=',', quotechar='\"', quoting=csv.QUOTE_MINIMAL)\n",
    "    wgs_writer.writerow(['desgination in screen', 'PATRIC genome ID','Taxonomy'])\n",
    "    \n",
    "    for i in range(len(wgs_ids)-1):\n",
    "        wgs = wgs_ids[i]\n",
    "        wgs_output = ! p3-all-genomes --eq genbank_accessions,$wgs \n",
    "        \n",
    "        # write genome ids to csv file \n",
    "        # If there is no genome ID record the WGS number\n",
    "        if len(wgs_output) > 1:\n",
    "            genomeIDs.append(wgs_output[1])\n",
    "            wgs_writer.writerow([str(speciesNames[i]), str(wgs_output[1]), str(taxonomy[i])])\n",
    "        \n",
    "        else:\n",
    "            genomeIDs_not_found.append(wgs_ids[i])\n",
    "            #wgs_writer.writerow([str(speciesNames[i]), str(wgs_output[1]), str(taxonomy[i])])\n",
    "            \n",
    "   "
   ]
  },
  {
   "cell_type": "code",
   "execution_count": 8,
   "metadata": {},
   "outputs": [],
   "source": [
    "filename = \"C:/Users/lilym/Box/Capstone/BIO_ML/genomeIDS_notFound.csv\"\n",
    "with open(filename,\"w\") as write_csv:\n",
    "    wgs_writer = csv.writer(write_csv, delimiter=',', quotechar='\"', quoting=csv.QUOTE_MINIMAL)\n",
    "    wgs_writer.writerow(['WGS Accession Code'])\n",
    "    for i in range(len(genomeIDs_not_found)-1):\n",
    "        wgs_writer.writerow([genomeIDs_not_found[i]])\n",
    "    "
   ]
  },
  {
   "cell_type": "code",
   "execution_count": null,
   "metadata": {},
   "outputs": [],
   "source": []
  }
 ],
 "metadata": {
  "kernelspec": {
   "display_name": "Python (Capstone)",
   "language": "python",
   "name": "capstone"
  },
  "language_info": {
   "codemirror_mode": {
    "name": "ipython",
    "version": 3
   },
   "file_extension": ".py",
   "mimetype": "text/x-python",
   "name": "python",
   "nbconvert_exporter": "python",
   "pygments_lexer": "ipython3",
   "version": "3.6.7"
  }
 },
 "nbformat": 4,
 "nbformat_minor": 4
}
