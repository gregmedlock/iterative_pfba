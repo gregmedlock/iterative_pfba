{
 "cells": [
  {
   "cell_type": "code",
   "execution_count": 1,
   "metadata": {},
   "outputs": [],
   "source": [
    "import Bio\n",
    "import os\n",
    "from Bio import Entrez\n",
    "Entrez.email = \"lml6uf@virginia.edu\" \n",
    "# SAMN11943001–SAMN11944000\n",
    "# biosamp_nums = [i for i in range(11943001,11944001)] + [i for i in range(11944002,11945002)] + [ i for i in range(11945004,11946004)] + [i for i in range(11946038,11946670)] \n",
    "biosamp_nums = [i for i in range(11943001,11944001)]\n",
    "\n",
    "# download biosamples \n",
    "biosamples = []\n",
    "for i in range(len(biosamp_nums)):\n",
    "    biosamples.append(\"SAMN\"+str(biosamp_nums[i]))\n",
    "    \n",
    "\n"
   ]
  },
  {
   "cell_type": "code",
   "execution_count": null,
   "metadata": {},
   "outputs": [],
   "source": [
    "# downloads fasta files for each biosample and concatenate all nucleotide files\n",
    "\n",
    "for i in range(len(biosamples)):\n",
    "    handle = Entrez.esearch(db=\"nucleotide\", term=biosamples[i])\n",
    "    record = Entrez.read(handle)\n",
    "    BS_id = record[\"IdList\"]\n",
    "    for i in range(len(BS_id)):\n",
    "        filename = biosamples[i]+BS_id[i]+\".fasta\"\n",
    "        if not os.path.isfile(filename):\n",
    "            # Downloading...\n",
    "            net_handle = Entrez.efetch(db=\"nucleotide\", id=BS_id[i], rettype=\"fasta\")\n",
    "            out_handle = open(filename, \"w\")\n",
    "            out_handle.write(net_handle.read())\n",
    "            out_handle.close()\n",
    "            net_handle.close()\n",
    "        os.system(\"sudo cd d:\\go_pacm\\BIO_ML\")\n",
    "        os.system(\"sudo cat *.fasta.txt > d:\\\".format(biosamples[i])\"combined.fasta\")\n",
    "\n",
    "\n"
   ]
  },
  {
   "cell_type": "code",
   "execution_count": null,
   "metadata": {},
   "outputs": [],
   "source": []
  },
  {
   "cell_type": "code",
   "execution_count": 7,
   "metadata": {},
   "outputs": [
    {
     "name": "stdout",
     "output_type": "stream",
     "text": [
      "1746144943.gbk\n"
     ]
    },
    {
     "data": {
      "text/plain": [
       "str"
      ]
     },
     "execution_count": 7,
     "metadata": {},
     "output_type": "execute_result"
    }
   ],
   "source": [
    "print(BS_id[0]+\".gbk\")\n",
    "type(BS_id[0]+\".gbk\")\n"
   ]
  },
  {
   "cell_type": "code",
   "execution_count": null,
   "metadata": {},
   "outputs": [],
   "source": []
  }
 ],
 "metadata": {
  "kernelspec": {
   "display_name": "Python (Capstone)",
   "language": "python",
   "name": "capstone"
  },
  "language_info": {
   "codemirror_mode": {
    "name": "ipython",
    "version": 3
   },
   "file_extension": ".py",
   "mimetype": "text/x-python",
   "name": "python",
   "nbconvert_exporter": "python",
   "pygments_lexer": "ipython3",
   "version": "3.6.7"
  }
 },
 "nbformat": 4,
 "nbformat_minor": 4
}
